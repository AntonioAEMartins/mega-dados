{
 "cells": [
  {
   "attachments": {},
   "cell_type": "markdown",
   "id": "0e37c0df-e67b-449d-8048-3be19047ab6d",
   "metadata": {},
   "source": [
    "# Exercicios com Spark"
   ]
  },
  {
   "attachments": {},
   "cell_type": "markdown",
   "id": "562f41a9-c638-4e0f-9493-77654a650474",
   "metadata": {},
   "source": [
    "Caso precise, abaixo estão os comandos para iniciar o container:\n",
    "\n",
    "Para macOS e linux, utilize:\n",
    "\n",
    "```bash\n",
    "docker run \\\n",
    "    -it \\\n",
    "    --rm \\\n",
    "    -p 8888:8888 \\\n",
    "    -p 4040:4040 \\\n",
    "    -v \"`pwd`\":/home/jovyan/work \\\n",
    "    jupyter/pyspark-notebook\n",
    "\n",
    "\n",
    "```\n",
    "\n",
    "Se estiver no Windows estes comandos, utilize:\n",
    "\n",
    "- No Powershell: `docker run -it --rm -p 8888:8888 -p 4040:4040 -v ${PWD}:/home/jovyan/work jupyter/pyspark-notebook`\n",
    "\n",
    "- No Prompt de comando: `docker run -it --rm -p 8888:8888 -p 4040:4040 -v %cd%:/home/jovyan/work jupyter/pyspark-notebook`\n",
    "\n",
    "Agora abra esse notebook lá no container!\n"
   ]
  },
  {
   "attachments": {},
   "cell_type": "markdown",
   "id": "9b7292d9-4aa8-47c3-938b-3922cd4be036",
   "metadata": {},
   "source": [
    "## Iniciando o Spark"
   ]
  },
  {
   "cell_type": "code",
   "execution_count": 1,
   "id": "69c208f2-a1ef-4f30-bf7c-5ed01e20246c",
   "metadata": {},
   "outputs": [
    {
     "name": "stderr",
     "output_type": "stream",
     "text": [
      "23/11/13 08:59:16 WARN Utils: Your hostname, MacBook-Pro-de-Antonio.local resolves to a loopback address: 127.0.0.1; using 10.102.5.64 instead (on interface en0)\n",
      "23/11/13 08:59:16 WARN Utils: Set SPARK_LOCAL_IP if you need to bind to another address\n",
      "Setting default log level to \"WARN\".\n",
      "To adjust logging level use sc.setLogLevel(newLevel). For SparkR, use setLogLevel(newLevel).\n",
      "23/11/13 08:59:16 WARN NativeCodeLoader: Unable to load native-hadoop library for your platform... using builtin-java classes where applicable\n"
     ]
    }
   ],
   "source": [
    "import pyspark\n",
    "\n",
    "conf = pyspark.SparkConf()\n",
    "conf.setAppName('Minha aplicação')\n",
    "conf.setMaster('local[*]')\n",
    "\n",
    "sc = pyspark.SparkContext(conf=conf)"
   ]
  },
  {
   "cell_type": "code",
   "execution_count": 2,
   "id": "b95e478c-cfe7-4bca-8ebf-6c34dd38aeeb",
   "metadata": {},
   "outputs": [
    {
     "data": {
      "text/html": [
       "\n",
       "        <div>\n",
       "            <p><b>SparkContext</b></p>\n",
       "\n",
       "            <p><a href=\"http://10.102.5.64:4040\">Spark UI</a></p>\n",
       "\n",
       "            <dl>\n",
       "              <dt>Version</dt>\n",
       "                <dd><code>v3.5.0</code></dd>\n",
       "              <dt>Master</dt>\n",
       "                <dd><code>local[*]</code></dd>\n",
       "              <dt>AppName</dt>\n",
       "                <dd><code>Minha aplicação</code></dd>\n",
       "            </dl>\n",
       "        </div>\n",
       "        "
      ],
      "text/plain": [
       "<SparkContext master=local[*] appName=Minha aplicação>"
      ]
     },
     "execution_count": 2,
     "metadata": {},
     "output_type": "execute_result"
    }
   ],
   "source": [
    "sc"
   ]
  },
  {
   "attachments": {},
   "cell_type": "markdown",
   "id": "765d74df",
   "metadata": {},
   "source": [
    "## Iniciando a biblioteca de correção"
   ]
  },
  {
   "cell_type": "code",
   "execution_count": 3,
   "id": "b3f05694",
   "metadata": {},
   "outputs": [
    {
     "data": {
      "text/plain": [
       "True"
      ]
     },
     "execution_count": 3,
     "metadata": {},
     "output_type": "execute_result"
    }
   ],
   "source": [
    "import insperautograder.jupyter as ia\n",
    "from dotenv import load_dotenv\n",
    "load_dotenv()"
   ]
  },
  {
   "cell_type": "code",
   "execution_count": 4,
   "id": "f7798ff6",
   "metadata": {},
   "outputs": [
    {
     "data": {
      "text/markdown": [
       "|    | Atividade            | De                        | Até                       |\n",
       "|---:|:---------------------|:--------------------------|:--------------------------|\n",
       "|  0 | select01             | 2023-08-08 03:00:00+00:00 | 2023-08-21 02:59:59+00:00 |\n",
       "|  1 | newborn              | 2023-08-08 03:00:00+00:00 | 2023-08-16 02:59:59+00:00 |\n",
       "|  2 | ddl                  | 2023-08-27 03:00:00+00:00 | 2023-09-02 02:59:59+00:00 |\n",
       "|  3 | dml                  | 2023-08-29 03:00:00+00:00 | 2023-09-04 02:59:59+00:00 |\n",
       "|  4 | agg_join             | 2023-09-03 03:00:00+00:00 | 2023-09-09 02:59:59+00:00 |\n",
       "|  5 | group_having         | 2023-09-03 03:00:00+00:00 | 2023-09-17 02:59:59+00:00 |\n",
       "|  6 | views                | 2023-09-11 03:00:00+00:00 | 2023-09-18 02:59:59+00:00 |\n",
       "|  7 | sql_review1          | 2023-09-13 03:00:00+00:00 | 2023-09-20 02:59:59+00:00 |\n",
       "|  8 | permissions          | 2023-09-20 03:00:00+00:00 | 2023-09-27 03:00:00+00:00 |\n",
       "|  9 | desafio_normalizacao | 2023-09-25 03:00:00+00:00 | 2023-10-02 03:00:00+00:00 |\n",
       "| 10 | ai_md_23_2           | 2023-10-09 03:00:00+00:00 | 2023-10-10 03:00:00+00:00 |\n",
       "| 11 | triggers             | 2023-10-19 03:00:00+00:00 | 2023-10-28 03:00:00+00:00 |\n",
       "| 12 | spark                | 2023-10-29 03:00:00+00:00 | 2023-11-08 15:00:00+00:00 |\n",
       "| 13 | functional           | 2023-10-29 03:00:00+00:00 | 2023-11-08 15:00:00+00:00 |\n",
       "| 14 | exercicios_spark     | 2023-11-02 03:00:00+00:00 | 2023-11-14 03:00:00+00:00 |"
      ],
      "text/plain": [
       "<IPython.core.display.Markdown object>"
      ]
     },
     "metadata": {},
     "output_type": "display_data"
    }
   ],
   "source": [
    "ia.tasks()"
   ]
  },
  {
   "cell_type": "code",
   "execution_count": 5,
   "id": "2d6f05ff",
   "metadata": {},
   "outputs": [
    {
     "data": {
      "text/markdown": [
       "|    | Atividade        | Exercício   |   Peso |   Nota |\n",
       "|---:|:-----------------|:------------|-------:|-------:|\n",
       "|  0 | exercicios_spark | ex01        |      1 |     10 |\n",
       "|  1 | exercicios_spark | ex02        |      1 |     10 |\n",
       "|  2 | exercicios_spark | ex03        |      1 |     10 |\n",
       "|  3 | exercicios_spark | ex04        |      1 |     10 |\n",
       "|  4 | exercicios_spark | ex05        |      1 |     10 |\n",
       "|  5 | exercicios_spark | ex06        |      1 |     10 |"
      ],
      "text/plain": [
       "<IPython.core.display.Markdown object>"
      ]
     },
     "metadata": {},
     "output_type": "display_data"
    }
   ],
   "source": [
    "ia.grades(task=\"exercicios_spark\")"
   ]
  },
  {
   "attachments": {},
   "cell_type": "markdown",
   "id": "a3099ef4-2117-47a8-8a1d-af2df7814056",
   "metadata": {},
   "source": [
    "## Trabalhando com Spark"
   ]
  },
  {
   "attachments": {},
   "cell_type": "markdown",
   "id": "483b1de3-9e55-46ce-99e8-526b05b8c3d2",
   "metadata": {},
   "source": [
    "Para este exercicio vamos trabalhar com o dataset de reviews da Amazon visto em https://www.kaggle.com/datasets/kritanjalijain/amazon-reviews. Baixe o arquivo \"train.csv\""
   ]
  },
  {
   "attachments": {},
   "cell_type": "markdown",
   "id": "65caf38e-fbd8-4513-af02-37671c6a949b",
   "metadata": {},
   "source": [
    "Vamos ler o arquivo \"train.csv\" em um RDD."
   ]
  },
  {
   "cell_type": "code",
   "execution_count": 6,
   "id": "e64ec721-3b7f-46b8-a8a9-d27ccc83f209",
   "metadata": {},
   "outputs": [],
   "source": [
    "rdd = sc.textFile('train.csv')"
   ]
  },
  {
   "cell_type": "code",
   "execution_count": 7,
   "id": "5b73e675-ea3b-49c2-8622-53e8c17cfdf6",
   "metadata": {},
   "outputs": [
    {
     "name": "stderr",
     "output_type": "stream",
     "text": [
      "                                                                                \r"
     ]
    },
    {
     "data": {
      "text/plain": [
       "['\"2\",\"Stuning even for the non-gamer\",\"This sound track was beautiful! It paints the senery in your mind so well I would recomend it even to people who hate vid. game music! I have played the game Chrono Cross but out of all of the games I have ever played it has the best music! It backs away from crude keyboarding and takes a fresher step with grate guitars and soulful orchestras. It would impress anyone who cares to listen! ^_^\"']"
      ]
     },
     "execution_count": 7,
     "metadata": {},
     "output_type": "execute_result"
    }
   ],
   "source": [
    "rdd.take(1)"
   ]
  },
  {
   "attachments": {},
   "cell_type": "markdown",
   "id": "a4794fc0-59cf-497f-98fc-d20efc0cca2b",
   "metadata": {},
   "source": [
    "De acordo com a documentação deste arquivo vista no Kaggle, cada linha contem 2 elementos: o sentimento do review (1 - negativo, 2 - positivo), o título e o corpo do review. A linha contem esses elementos em um formato \"comma-separated value\" (CSV), onde cada um dos campos está delimitado por aspas duplas. Se o texto em si (titulo ou corpo) contem aspas, elas aparecem como um par de aspas duplas. Vamos usar o `.filter()` para achar um exemplo desses."
   ]
  },
  {
   "cell_type": "code",
   "execution_count": 8,
   "id": "ef3c736d-0378-43f7-be05-3e7f53b1423e",
   "metadata": {},
   "outputs": [
    {
     "data": {
      "text/plain": [
       "'\"2\",\"Amazing!\",\"This soundtrack is my favorite music of all time, hands down. The intense sadness of \"\"Prisoners of Fate\"\" (which means all the more if you\\'ve played the game) and the hope in \"\"A Distant Promise\"\" and \"\"Girl who Stole the Star\"\" have been an important inspiration to me personally throughout my teen years. The higher energy tracks like \"\"Chrono Cross ~ Time\\'s Scar~\"\", \"\"Time of the Dreamwatch\"\", and \"\"Chronomantique\"\" (indefinably remeniscent of Chrono Trigger) are all absolutely superb as well.This soundtrack is amazing music, probably the best of this composer\\'s work (I haven\\'t heard the Xenogears soundtrack, so I can\\'t say for sure), and even if you\\'ve never played the game, it would be worth twice the price to buy it.I wish I could give it 6 stars.\"'"
      ]
     },
     "execution_count": 8,
     "metadata": {},
     "output_type": "execute_result"
    }
   ],
   "source": [
    "example_line = rdd.filter(lambda x: '\"\"' in x).take(1)\n",
    "example_line = example_line[0]\n",
    "\n",
    "example_line"
   ]
  },
  {
   "attachments": {},
   "cell_type": "markdown",
   "id": "efc0e86d-122f-4c0e-bf36-a0a8e2f60559",
   "metadata": {},
   "source": [
    "Levando isso em consideração, vamos fazer uma função simples para separar os campos:"
   ]
  },
  {
   "cell_type": "code",
   "execution_count": 9,
   "id": "4923aa8b-1bee-4c74-8d18-6f4cf0445b0a",
   "metadata": {},
   "outputs": [],
   "source": [
    "def parse_line(line):\n",
    "    parts = line[1:-1].split('\",\"')\n",
    "    sentiment = int(parts[0])\n",
    "    title = parts[1].replace('\"\"', '\"')\n",
    "    body = parts[2].replace('\"\"', '\"')\n",
    "    return (sentiment, title, body)"
   ]
  },
  {
   "cell_type": "code",
   "execution_count": 10,
   "id": "82f380c6-469c-4dd2-baa5-cbe72110de7f",
   "metadata": {},
   "outputs": [
    {
     "data": {
      "text/plain": [
       "(2,\n",
       " 'Amazing!',\n",
       " 'This soundtrack is my favorite music of all time, hands down. The intense sadness of \"Prisoners of Fate\" (which means all the more if you\\'ve played the game) and the hope in \"A Distant Promise\" and \"Girl who Stole the Star\" have been an important inspiration to me personally throughout my teen years. The higher energy tracks like \"Chrono Cross ~ Time\\'s Scar~\", \"Time of the Dreamwatch\", and \"Chronomantique\" (indefinably remeniscent of Chrono Trigger) are all absolutely superb as well.This soundtrack is amazing music, probably the best of this composer\\'s work (I haven\\'t heard the Xenogears soundtrack, so I can\\'t say for sure), and even if you\\'ve never played the game, it would be worth twice the price to buy it.I wish I could give it 6 stars.')"
      ]
     },
     "execution_count": 10,
     "metadata": {},
     "output_type": "execute_result"
    }
   ],
   "source": [
    "parse_line(example_line)"
   ]
  },
  {
   "attachments": {},
   "cell_type": "markdown",
   "id": "ad8249e3-6f4a-4ed0-81b5-a453d141b88b",
   "metadata": {},
   "source": [
    "Podemos agora utilizar nossa função para separar os campos de cada linha do dataset. "
   ]
  },
  {
   "cell_type": "code",
   "execution_count": 11,
   "id": "59d103d0-ae4d-4912-ba1b-8133f12d4e6b",
   "metadata": {},
   "outputs": [],
   "source": [
    "rdd_split = rdd.map(parse_line)"
   ]
  },
  {
   "attachments": {},
   "cell_type": "markdown",
   "id": "a64fbea0-1378-4be7-b1d7-ada7828735b4",
   "metadata": {},
   "source": [
    "Como de costume, nada realmente acontece até que uma \"action\" seja invocada. O `.map()` é uma \"transformation\". Vamos usar uma action simples para \"materializar\" o novo RDD."
   ]
  },
  {
   "cell_type": "code",
   "execution_count": 12,
   "id": "06b670e5-1757-443b-a229-453e3e3115b2",
   "metadata": {},
   "outputs": [
    {
     "name": "stderr",
     "output_type": "stream",
     "text": [
      "                                                                                \r"
     ]
    },
    {
     "data": {
      "text/plain": [
       "3600000"
      ]
     },
     "execution_count": 12,
     "metadata": {},
     "output_type": "execute_result"
    }
   ],
   "source": [
    "rdd_split.count()"
   ]
  },
  {
   "attachments": {},
   "cell_type": "markdown",
   "id": "6ff144ad-9378-4b72-ae84-1b1d2dda815d",
   "metadata": {},
   "source": [
    "Vamos explorar os resultados para ver se deu certo"
   ]
  },
  {
   "cell_type": "code",
   "execution_count": 13,
   "id": "fd7882d9-4502-406b-abc4-b74de6fa1aef",
   "metadata": {},
   "outputs": [
    {
     "data": {
      "text/plain": [
       "[(2,\n",
       "  'Stuning even for the non-gamer',\n",
       "  'This sound track was beautiful! It paints the senery in your mind so well I would recomend it even to people who hate vid. game music! I have played the game Chrono Cross but out of all of the games I have ever played it has the best music! It backs away from crude keyboarding and takes a fresher step with grate guitars and soulful orchestras. It would impress anyone who cares to listen! ^_^')]"
      ]
     },
     "execution_count": 13,
     "metadata": {},
     "output_type": "execute_result"
    }
   ],
   "source": [
    "rdd_split.take(1)"
   ]
  },
  {
   "attachments": {},
   "cell_type": "markdown",
   "id": "3317a957-f13d-49fe-b193-9c6826616cc7",
   "metadata": {},
   "source": [
    "**Atividade**: Implemente uma função que recebe o rdd processado e conte quantos sentimentos diferentes existem, e quantas vezes aparecem, para confirmar que só tem os sentimentos 1 e 2. Sua função deve retornar o resultado em tuplas, onde o primeiro elemento é o sentimento e o segundo é a contagem de vezes que aparece."
   ]
  },
  {
   "cell_type": "code",
   "execution_count": 14,
   "id": "1d3e5d27-5687-419b-94f0-0d7a40ef62b7",
   "metadata": {},
   "outputs": [
    {
     "name": "stderr",
     "output_type": "stream",
     "text": [
      "23/11/13 08:59:29 WARN GarbageCollectionMetrics: To enable non-built-in garbage collector(s) List(G1 Concurrent GC), users should configure it(them) to spark.eventLog.gcMetrics.youngGenerationGarbageCollectors or spark.eventLog.gcMetrics.oldGenerationGarbageCollectors\n",
      "                                                                                \r"
     ]
    },
    {
     "data": {
      "text/plain": [
       "[(1, 1800000), (2, 1800000)]"
      ]
     },
     "execution_count": 14,
     "metadata": {},
     "output_type": "execute_result"
    }
   ],
   "source": [
    "def ex01(rdd_split):\n",
    "\n",
    "    def separa_sentimento(linha):\n",
    "        rdd_sentimento = linha[0]\n",
    "        return rdd_sentimento\n",
    "    \n",
    "    def conta_sentimento(rdd):\n",
    "        rdd = rdd.map(lambda x: (x,1)).reduceByKey(lambda x, y: x + y)\n",
    "        return rdd\n",
    "\n",
    "    rdd_split = rdd_split.map(separa_sentimento)\n",
    "\n",
    "    rdd_split = conta_sentimento(rdd_split)\n",
    "\n",
    "    return rdd_split.collect()\n",
    "    \n",
    "ex01(rdd_split)"
   ]
  },
  {
   "cell_type": "code",
   "execution_count": 15,
   "id": "e0248377",
   "metadata": {},
   "outputs": [
    {
     "data": {
      "application/vnd.jupyter.widget-view+json": {
       "model_id": "f6c82216f11d4340bb35af85ac703272",
       "version_major": 2,
       "version_minor": 0
      },
      "text/plain": [
       "interactive(children=(Button(description='Enviar ex01', style=ButtonStyle()), Output()), _dom_classes=('widget…"
      ]
     },
     "execution_count": 15,
     "metadata": {},
     "output_type": "execute_result"
    }
   ],
   "source": [
    "ia.sender(answer=\"ex01\", task=\"exercicios_spark\", question=\"ex01\", answer_type=\"pycode\")"
   ]
  },
  {
   "attachments": {},
   "cell_type": "markdown",
   "id": "fffe0feb-e926-485d-80c0-897bf7820e47",
   "metadata": {},
   "source": [
    "**Atividade**: Implemente uma função que recebe o rdd processado e retorna quantos reviews não tem titulo."
   ]
  },
  {
   "cell_type": "code",
   "execution_count": 16,
   "id": "459334bc-f993-4e73-97e0-377899cae44c",
   "metadata": {},
   "outputs": [
    {
     "name": "stderr",
     "output_type": "stream",
     "text": [
      "                                                                                \r"
     ]
    },
    {
     "data": {
      "text/plain": [
       "48"
      ]
     },
     "execution_count": 16,
     "metadata": {},
     "output_type": "execute_result"
    }
   ],
   "source": [
    "def ex02(rdd_split):\n",
    "\n",
    "    return rdd_split.filter(lambda x: x[1] == \"\").map(lambda x: 1).reduce(lambda x, y: x + y)\n",
    "\n",
    "ex02(rdd_split)"
   ]
  },
  {
   "cell_type": "code",
   "execution_count": 17,
   "id": "e3aa482a",
   "metadata": {},
   "outputs": [
    {
     "data": {
      "application/vnd.jupyter.widget-view+json": {
       "model_id": "115f00fc0da5430ea2a95be424edc8ae",
       "version_major": 2,
       "version_minor": 0
      },
      "text/plain": [
       "interactive(children=(Button(description='Enviar ex02', style=ButtonStyle()), Output()), _dom_classes=('widget…"
      ]
     },
     "execution_count": 17,
     "metadata": {},
     "output_type": "execute_result"
    }
   ],
   "source": [
    "ia.sender(answer=\"ex02\", task=\"exercicios_spark\", question=\"ex02\", answer_type=\"pycode\")"
   ]
  },
  {
   "attachments": {},
   "cell_type": "markdown",
   "id": "a31da43c-d2a5-4806-a5bf-9765e7fb09f9",
   "metadata": {},
   "source": [
    "**Atividade**: Implemente uma função que recebe o rdd processado e retorna quantos reviews não tem corpo."
   ]
  },
  {
   "cell_type": "code",
   "execution_count": 18,
   "id": "7b79e04a-1d9b-458e-b4b5-62b8ee219659",
   "metadata": {},
   "outputs": [
    {
     "name": "stderr",
     "output_type": "stream",
     "text": [
      "                                                                                \r"
     ]
    },
    {
     "data": {
      "text/plain": [
       "0"
      ]
     },
     "execution_count": 18,
     "metadata": {},
     "output_type": "execute_result"
    }
   ],
   "source": [
    "def ex03(rdd_split):\n",
    "    qt_corpo = rdd_split.filter(lambda x: x[2] == \"\")\n",
    "    if qt_corpo.count() == 0:\n",
    "        return 0\n",
    "    return qt_corpo.map(lambda x: 1).reduce(lambda x, y: x + y)\n",
    "\n",
    "ex03(rdd_split)"
   ]
  },
  {
   "cell_type": "code",
   "execution_count": 19,
   "id": "84bf1280",
   "metadata": {},
   "outputs": [
    {
     "data": {
      "application/vnd.jupyter.widget-view+json": {
       "model_id": "39bf748c7712463e89c2e2f048316a2e",
       "version_major": 2,
       "version_minor": 0
      },
      "text/plain": [
       "interactive(children=(Button(description='Enviar ex03', style=ButtonStyle()), Output()), _dom_classes=('widget…"
      ]
     },
     "execution_count": 19,
     "metadata": {},
     "output_type": "execute_result"
    }
   ],
   "source": [
    "ia.sender(answer=\"ex03\", task=\"exercicios_spark\", question=\"ex03\", answer_type=\"pycode\")"
   ]
  },
  {
   "attachments": {},
   "cell_type": "markdown",
   "id": "c76d3fd0-af72-4b2e-aa61-7ffc897b86c1",
   "metadata": {},
   "source": [
    "**Atividade**: Implemente uma função que recebe o rdd processado e retorna qual o comprimento máximo de um título e de um corpo. O resultado deve ser uma tupla com os dois valores."
   ]
  },
  {
   "cell_type": "code",
   "execution_count": 20,
   "id": "60c89e59-40b4-4fa1-bef2-8d406044cc6d",
   "metadata": {},
   "outputs": [
    {
     "name": "stderr",
     "output_type": "stream",
     "text": [
      "                                                                                \r"
     ]
    },
    {
     "data": {
      "text/plain": [
       "(139, 1010)"
      ]
     },
     "execution_count": 20,
     "metadata": {},
     "output_type": "execute_result"
    }
   ],
   "source": [
    "def ex04(rdd_split):\n",
    "\n",
    "    rdd_split = rdd_split.map(lambda x: (len(x[1]), len(x[2])))\n",
    "\n",
    "    tupla = rdd_split.reduce(lambda x, y: (x[0] if x[0] > y[0] else y[0], x[1] if x[1] > y[1] else y[1]))\n",
    "\n",
    "    return tupla\n",
    "    \n",
    "ex04(rdd_split)"
   ]
  },
  {
   "cell_type": "code",
   "execution_count": 21,
   "id": "e5c9e4b0",
   "metadata": {},
   "outputs": [
    {
     "data": {
      "application/vnd.jupyter.widget-view+json": {
       "model_id": "9c602f366d614c93b62aabf9e40ae56e",
       "version_major": 2,
       "version_minor": 0
      },
      "text/plain": [
       "interactive(children=(Button(description='Enviar ex04', style=ButtonStyle()), Output()), _dom_classes=('widget…"
      ]
     },
     "execution_count": 21,
     "metadata": {},
     "output_type": "execute_result"
    }
   ],
   "source": [
    "ia.sender(answer=\"ex04\", task=\"exercicios_spark\", question=\"ex04\", answer_type=\"pycode\")"
   ]
  },
  {
   "attachments": {},
   "cell_type": "markdown",
   "id": "11d96887-6d6d-494e-9ac0-0c06b5c08dc6",
   "metadata": {},
   "source": [
    "**Atividade**: Implemente uma função que recebe o rdd processado e retorna qual a maior palavra palíndroma sem pontuações do dataset (no titulo ou corpo) e seu tamanho. Para este exercício, está permitido o uso de list comprehensions."
   ]
  },
  {
   "cell_type": "code",
   "execution_count": 22,
   "id": "ff6df655",
   "metadata": {},
   "outputs": [
    {
     "data": {
      "text/plain": [
       "'!\"#$%&\\'()*+,-./:;<=>?@[\\\\]^_`{|}~'"
      ]
     },
     "execution_count": 22,
     "metadata": {},
     "output_type": "execute_result"
    }
   ],
   "source": [
    "import string\n",
    "string.punctuation"
   ]
  },
  {
   "cell_type": "code",
   "execution_count": 27,
   "id": "4cdff5ed-4ee4-48fe-9aa7-059b895f4adf",
   "metadata": {},
   "outputs": [
    {
     "name": "stderr",
     "output_type": "stream",
     "text": [
      "ERROR:root:KeyboardInterrupt while sending command.               (0 + 16) / 48]\n",
      "Traceback (most recent call last):\n",
      "  File \"/Library/Frameworks/Python.framework/Versions/3.11/lib/python3.11/site-packages/py4j/java_gateway.py\", line 1038, in send_command\n",
      "    response = connection.send_command(command)\n",
      "               ^^^^^^^^^^^^^^^^^^^^^^^^^^^^^^^^\n",
      "  File \"/Library/Frameworks/Python.framework/Versions/3.11/lib/python3.11/site-packages/py4j/clientserver.py\", line 511, in send_command\n",
      "    answer = smart_decode(self.stream.readline()[:-1])\n",
      "                          ^^^^^^^^^^^^^^^^^^^^^^\n",
      "  File \"/Library/Frameworks/Python.framework/Versions/3.11/lib/python3.11/socket.py\", line 706, in readinto\n",
      "    return self._sock.recv_into(b)\n",
      "           ^^^^^^^^^^^^^^^^^^^^^^^\n",
      "KeyboardInterrupt\n"
     ]
    },
    {
     "ename": "KeyboardInterrupt",
     "evalue": "",
     "output_type": "error",
     "traceback": [
      "\u001b[0;31m---------------------------------------------------------------------------\u001b[0m",
      "\u001b[0;31mKeyboardInterrupt\u001b[0m                         Traceback (most recent call last)",
      "Cell \u001b[0;32mIn[27], line 33\u001b[0m\n\u001b[1;32m     27\u001b[0m     maior_palindromo \u001b[39m=\u001b[39m palindromos\u001b[39m.\u001b[39mreduce(\u001b[39mlambda\u001b[39;00m x, y: x \u001b[39mif\u001b[39;00m \u001b[39mlen\u001b[39m(x) \u001b[39m>\u001b[39m \u001b[39mlen\u001b[39m(y) \u001b[39melse\u001b[39;00m y)\n\u001b[1;32m     30\u001b[0m     \u001b[39mreturn\u001b[39;00m maior_palindromo, \u001b[39mlen\u001b[39m(maior_palindromo)\n\u001b[0;32m---> 33\u001b[0m ex05(rdd_split)\n",
      "Cell \u001b[0;32mIn[27], line 27\u001b[0m, in \u001b[0;36mex05\u001b[0;34m(rdd_split)\u001b[0m\n\u001b[1;32m     23\u001b[0m rdd_tupla_flat \u001b[39m=\u001b[39m rdd_tupla\u001b[39m.\u001b[39mflatMap(\u001b[39mlambda\u001b[39;00m l: l)\n\u001b[1;32m     25\u001b[0m palindromos \u001b[39m=\u001b[39m rdd_tupla_flat\u001b[39m.\u001b[39mfilter(eh_palindromo)\n\u001b[0;32m---> 27\u001b[0m maior_palindromo \u001b[39m=\u001b[39m palindromos\u001b[39m.\u001b[39;49mreduce(\u001b[39mlambda\u001b[39;49;00m x, y: x \u001b[39mif\u001b[39;49;00m \u001b[39mlen\u001b[39;49m(x) \u001b[39m>\u001b[39;49m \u001b[39mlen\u001b[39;49m(y) \u001b[39melse\u001b[39;49;00m y)\n\u001b[1;32m     30\u001b[0m \u001b[39mreturn\u001b[39;00m maior_palindromo, \u001b[39mlen\u001b[39m(maior_palindromo)\n",
      "File \u001b[0;32m/Library/Frameworks/Python.framework/Versions/3.11/lib/python3.11/site-packages/pyspark/rdd.py:1924\u001b[0m, in \u001b[0;36mRDD.reduce\u001b[0;34m(self, f)\u001b[0m\n\u001b[1;32m   1921\u001b[0m         \u001b[39mreturn\u001b[39;00m\n\u001b[1;32m   1922\u001b[0m     \u001b[39myield\u001b[39;00m reduce(f, iterator, initial)\n\u001b[0;32m-> 1924\u001b[0m vals \u001b[39m=\u001b[39m \u001b[39mself\u001b[39;49m\u001b[39m.\u001b[39;49mmapPartitions(func)\u001b[39m.\u001b[39;49mcollect()\n\u001b[1;32m   1925\u001b[0m \u001b[39mif\u001b[39;00m vals:\n\u001b[1;32m   1926\u001b[0m     \u001b[39mreturn\u001b[39;00m reduce(f, vals)\n",
      "File \u001b[0;32m/Library/Frameworks/Python.framework/Versions/3.11/lib/python3.11/site-packages/pyspark/rdd.py:1833\u001b[0m, in \u001b[0;36mRDD.collect\u001b[0;34m(self)\u001b[0m\n\u001b[1;32m   1831\u001b[0m \u001b[39mwith\u001b[39;00m SCCallSiteSync(\u001b[39mself\u001b[39m\u001b[39m.\u001b[39mcontext):\n\u001b[1;32m   1832\u001b[0m     \u001b[39massert\u001b[39;00m \u001b[39mself\u001b[39m\u001b[39m.\u001b[39mctx\u001b[39m.\u001b[39m_jvm \u001b[39mis\u001b[39;00m \u001b[39mnot\u001b[39;00m \u001b[39mNone\u001b[39;00m\n\u001b[0;32m-> 1833\u001b[0m     sock_info \u001b[39m=\u001b[39m \u001b[39mself\u001b[39;49m\u001b[39m.\u001b[39;49mctx\u001b[39m.\u001b[39;49m_jvm\u001b[39m.\u001b[39;49mPythonRDD\u001b[39m.\u001b[39;49mcollectAndServe(\u001b[39mself\u001b[39;49m\u001b[39m.\u001b[39;49m_jrdd\u001b[39m.\u001b[39;49mrdd())\n\u001b[1;32m   1834\u001b[0m \u001b[39mreturn\u001b[39;00m \u001b[39mlist\u001b[39m(_load_from_socket(sock_info, \u001b[39mself\u001b[39m\u001b[39m.\u001b[39m_jrdd_deserializer))\n",
      "File \u001b[0;32m/Library/Frameworks/Python.framework/Versions/3.11/lib/python3.11/site-packages/py4j/java_gateway.py:1321\u001b[0m, in \u001b[0;36mJavaMember.__call__\u001b[0;34m(self, *args)\u001b[0m\n\u001b[1;32m   1314\u001b[0m args_command, temp_args \u001b[39m=\u001b[39m \u001b[39mself\u001b[39m\u001b[39m.\u001b[39m_build_args(\u001b[39m*\u001b[39margs)\n\u001b[1;32m   1316\u001b[0m command \u001b[39m=\u001b[39m proto\u001b[39m.\u001b[39mCALL_COMMAND_NAME \u001b[39m+\u001b[39m\\\n\u001b[1;32m   1317\u001b[0m     \u001b[39mself\u001b[39m\u001b[39m.\u001b[39mcommand_header \u001b[39m+\u001b[39m\\\n\u001b[1;32m   1318\u001b[0m     args_command \u001b[39m+\u001b[39m\\\n\u001b[1;32m   1319\u001b[0m     proto\u001b[39m.\u001b[39mEND_COMMAND_PART\n\u001b[0;32m-> 1321\u001b[0m answer \u001b[39m=\u001b[39m \u001b[39mself\u001b[39;49m\u001b[39m.\u001b[39;49mgateway_client\u001b[39m.\u001b[39;49msend_command(command)\n\u001b[1;32m   1322\u001b[0m return_value \u001b[39m=\u001b[39m get_return_value(\n\u001b[1;32m   1323\u001b[0m     answer, \u001b[39mself\u001b[39m\u001b[39m.\u001b[39mgateway_client, \u001b[39mself\u001b[39m\u001b[39m.\u001b[39mtarget_id, \u001b[39mself\u001b[39m\u001b[39m.\u001b[39mname)\n\u001b[1;32m   1325\u001b[0m \u001b[39mfor\u001b[39;00m temp_arg \u001b[39min\u001b[39;00m temp_args:\n",
      "File \u001b[0;32m/Library/Frameworks/Python.framework/Versions/3.11/lib/python3.11/site-packages/py4j/java_gateway.py:1038\u001b[0m, in \u001b[0;36mGatewayClient.send_command\u001b[0;34m(self, command, retry, binary)\u001b[0m\n\u001b[1;32m   1036\u001b[0m connection \u001b[39m=\u001b[39m \u001b[39mself\u001b[39m\u001b[39m.\u001b[39m_get_connection()\n\u001b[1;32m   1037\u001b[0m \u001b[39mtry\u001b[39;00m:\n\u001b[0;32m-> 1038\u001b[0m     response \u001b[39m=\u001b[39m connection\u001b[39m.\u001b[39;49msend_command(command)\n\u001b[1;32m   1039\u001b[0m     \u001b[39mif\u001b[39;00m binary:\n\u001b[1;32m   1040\u001b[0m         \u001b[39mreturn\u001b[39;00m response, \u001b[39mself\u001b[39m\u001b[39m.\u001b[39m_create_connection_guard(connection)\n",
      "File \u001b[0;32m/Library/Frameworks/Python.framework/Versions/3.11/lib/python3.11/site-packages/py4j/clientserver.py:511\u001b[0m, in \u001b[0;36mClientServerConnection.send_command\u001b[0;34m(self, command)\u001b[0m\n\u001b[1;32m    509\u001b[0m \u001b[39mtry\u001b[39;00m:\n\u001b[1;32m    510\u001b[0m     \u001b[39mwhile\u001b[39;00m \u001b[39mTrue\u001b[39;00m:\n\u001b[0;32m--> 511\u001b[0m         answer \u001b[39m=\u001b[39m smart_decode(\u001b[39mself\u001b[39m\u001b[39m.\u001b[39mstream\u001b[39m.\u001b[39mreadline()[:\u001b[39m-\u001b[39m\u001b[39m1\u001b[39m])\n\u001b[1;32m    512\u001b[0m         logger\u001b[39m.\u001b[39mdebug(\u001b[39m\"\u001b[39m\u001b[39mAnswer received: \u001b[39m\u001b[39m{0}\u001b[39;00m\u001b[39m\"\u001b[39m\u001b[39m.\u001b[39mformat(answer))\n\u001b[1;32m    513\u001b[0m         \u001b[39m# Happens when a the other end is dead. There might be an empty\u001b[39;00m\n\u001b[1;32m    514\u001b[0m         \u001b[39m# answer before the socket raises an error.\u001b[39;00m\n",
      "File \u001b[0;32m/Library/Frameworks/Python.framework/Versions/3.11/lib/python3.11/socket.py:706\u001b[0m, in \u001b[0;36mSocketIO.readinto\u001b[0;34m(self, b)\u001b[0m\n\u001b[1;32m    704\u001b[0m \u001b[39mwhile\u001b[39;00m \u001b[39mTrue\u001b[39;00m:\n\u001b[1;32m    705\u001b[0m     \u001b[39mtry\u001b[39;00m:\n\u001b[0;32m--> 706\u001b[0m         \u001b[39mreturn\u001b[39;00m \u001b[39mself\u001b[39;49m\u001b[39m.\u001b[39;49m_sock\u001b[39m.\u001b[39;49mrecv_into(b)\n\u001b[1;32m    707\u001b[0m     \u001b[39mexcept\u001b[39;00m timeout:\n\u001b[1;32m    708\u001b[0m         \u001b[39mself\u001b[39m\u001b[39m.\u001b[39m_timeout_occurred \u001b[39m=\u001b[39m \u001b[39mTrue\u001b[39;00m\n",
      "\u001b[0;31mKeyboardInterrupt\u001b[0m: "
     ]
    }
   ],
   "source": [
    "def ex05(rdd_split):\n",
    "\n",
    "    rdd_formatao = rdd_split.map(lambda x: (x[1], x[2]))\n",
    "\n",
    "    rdd_formatao = rdd_formatao.filter(lambda x: (x[0] if len(x[0]) > 0 else \"\", x[1] if len(x[1]) >0 else \"\"))\n",
    "\n",
    "    def checa_pontuacao(linha):\n",
    "        rdd_titulo = linha[0]\n",
    "        rdd_corpo = linha[1]\n",
    "\n",
    "        titulo_valido = rdd_titulo.split()\n",
    "        corpo_valido = rdd_corpo.split()\n",
    "\n",
    "        titulo_valido = [word for word in rdd_titulo.split() if not any(char in word for char in string.punctuation)]\n",
    "        corpo_valido = [word for word in rdd_corpo.split() if not any(char in word for char in string.punctuation)]\n",
    "        return (titulo_valido + corpo_valido)\n",
    "\n",
    "    def eh_palindromo(palavra):\n",
    "        return palavra == palavra[::-1]\n",
    "\n",
    "    rdd_tupla = rdd_formatao.map(checa_pontuacao)\n",
    "\n",
    "    rdd_tupla_flat = rdd_tupla.flatMap(lambda l: l)\n",
    "\n",
    "    palindromos = rdd_tupla_flat.filter(eh_palindromo)\n",
    "\n",
    "    maior_palindromo = palindromos.reduce(lambda x, y: x if len(x) > len(y) else y)\n",
    "\n",
    "\n",
    "    return maior_palindromo, len(maior_palindromo)\n",
    "\n",
    "\n",
    "ex05(rdd_split)"
   ]
  },
  {
   "cell_type": "code",
   "execution_count": null,
   "id": "7aa180dd-b4ca-4db5-a2fd-c3c33818abec",
   "metadata": {},
   "outputs": [
    {
     "data": {
      "application/vnd.jupyter.widget-view+json": {
       "model_id": "352872b7b5a2492f9f838595b268f211",
       "version_major": 2,
       "version_minor": 0
      },
      "text/plain": [
       "interactive(children=(Button(description='Enviar ex05', style=ButtonStyle()), Output()), _dom_classes=('widget…"
      ]
     },
     "execution_count": 24,
     "metadata": {},
     "output_type": "execute_result"
    }
   ],
   "source": [
    "ia.sender(answer=\"ex05\", task=\"exercicios_spark\", question=\"ex05\", answer_type=\"pycode\")"
   ]
  },
  {
   "attachments": {},
   "cell_type": "markdown",
   "id": "d63f641d-1d98-4d84-8f7b-93b122ae057c",
   "metadata": {},
   "source": [
    "**Atividade**: Implemente uma função que recebe o rdd processado e retorna as 20 palavras mais populares do titulo com sua frequência absoluta. Teste no subconjunto apresentado abaixo."
   ]
  },
  {
   "cell_type": "code",
   "execution_count": null,
   "id": "8de29253-98bc-4c5f-b3fe-fc35bee98503",
   "metadata": {},
   "outputs": [],
   "source": [
    "def ex06(rdd_split):\n",
    "\n",
    "    rdd_formatao = rdd_split.map(lambda x: x[1].split())\n",
    "\n",
    "    rdd_flat = rdd_formatao.flatMap(lambda l: l)\n",
    "\n",
    "    rdd_numerado = rdd_flat.map(lambda x: (x, 1)).reduceByKey(lambda x, y: x + y)\n",
    "\n",
    "    return rdd_numerado.takeOrdered(20, lambda x: -x[-1])\n",
    "\n",
    "ex06(rdd_split)"
   ]
  },
  {
   "cell_type": "code",
   "execution_count": 26,
   "id": "cd2e4518",
   "metadata": {},
   "outputs": [
    {
     "name": "stderr",
     "output_type": "stream",
     "text": [
      "                                                                                \r"
     ]
    },
    {
     "data": {
      "text/plain": [
       "[('the', 348807),\n",
       " ('a', 249841),\n",
       " ('of', 241846),\n",
       " ('for', 220429),\n",
       " ('and', 190973),\n",
       " ('to', 177502),\n",
       " ('A', 173889),\n",
       " ('Great', 168288),\n",
       " ('I', 145120),\n",
       " ('is', 143982),\n",
       " ('Not', 140413),\n",
       " ('not', 128331),\n",
       " ('this', 121247),\n",
       " ('The', 119549),\n",
       " ('it', 107117),\n",
       " ('but', 95869),\n",
       " ('book', 95629),\n",
       " ('good', 87873),\n",
       " ('Good', 86357),\n",
       " ('in', 84964)]"
      ]
     },
     "execution_count": 26,
     "metadata": {},
     "output_type": "execute_result"
    }
   ],
   "source": [
    "rdd_redux = rdd_split.sample(False, 0.05, 7)\n",
    "ex06(rdd_split)"
   ]
  },
  {
   "cell_type": "code",
   "execution_count": null,
   "id": "c1a18e2d",
   "metadata": {},
   "outputs": [
    {
     "data": {
      "application/vnd.jupyter.widget-view+json": {
       "model_id": "20820176fa3946fa907cf134ced907ed",
       "version_major": 2,
       "version_minor": 0
      },
      "text/plain": [
       "interactive(children=(Button(description='Enviar ex06', style=ButtonStyle()), Output()), _dom_classes=('widget…"
      ]
     },
     "execution_count": 27,
     "metadata": {},
     "output_type": "execute_result"
    }
   ],
   "source": [
    "ia.sender(answer=\"ex06\", task=\"exercicios_spark\", question=\"ex06\", answer_type=\"pycode\")"
   ]
  },
  {
   "cell_type": "code",
   "execution_count": null,
   "id": "deb5ee10",
   "metadata": {},
   "outputs": [],
   "source": []
  }
 ],
 "metadata": {
  "kernelspec": {
   "display_name": "Python 3 (ipykernel)",
   "language": "python",
   "name": "python3"
  },
  "language_info": {
   "codemirror_mode": {
    "name": "ipython",
    "version": 3
   },
   "file_extension": ".py",
   "mimetype": "text/x-python",
   "name": "python",
   "nbconvert_exporter": "python",
   "pygments_lexer": "ipython3",
   "version": "3.11.4"
  }
 },
 "nbformat": 4,
 "nbformat_minor": 5
}
