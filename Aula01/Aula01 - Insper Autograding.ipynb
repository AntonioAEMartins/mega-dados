{
 "cells": [
  {
   "cell_type": "markdown",
   "id": "eccb9973",
   "metadata": {},
   "source": [
    "# Insper Autograding\n",
    "\n",
    "Siga os passos deste notebook para realizar a instalação da biblioteca de correção de exercícios nos notebooks da disciplina de Megadados!\n",
    "\n",
    "## Instalação\n",
    "\n",
    "Vamos instalar a biblioteca:"
   ]
  },
  {
   "cell_type": "code",
   "execution_count": 1,
   "id": "f8da2455",
   "metadata": {},
   "outputs": [
    {
     "name": "stdout",
     "output_type": "stream",
     "text": [
      "Found existing installation: insperautograder 0.1.0\n",
      "Uninstalling insperautograder-0.1.0:\n",
      "  Successfully uninstalled insperautograder-0.1.0\n",
      "Collecting git+https://github.com/macielcalebe/insperautograding.git\n",
      "  Cloning https://github.com/macielcalebe/insperautograding.git to /private/var/folders/00/v31y1rs57x3b9smq12j1ddzw0000gn/T/pip-req-build-5zv4tbv6\n",
      "  Running command git clone --filter=blob:none --quiet https://github.com/macielcalebe/insperautograding.git /private/var/folders/00/v31y1rs57x3b9smq12j1ddzw0000gn/T/pip-req-build-5zv4tbv6\n",
      "  Resolved https://github.com/macielcalebe/insperautograding.git to commit 4a8520568b7d385f9dba29e6c359f43559603f6d\n",
      "  Installing build dependencies ... \u001b[?25ldone\n",
      "\u001b[?25h  Getting requirements to build wheel ... \u001b[?25ldone\n",
      "\u001b[?25h  Preparing metadata (pyproject.toml) ... \u001b[?25ldone\n",
      "\u001b[?25hRequirement already satisfied: python-dotenv in /Library/Frameworks/Python.framework/Versions/3.11/lib/python3.11/site-packages (from insperautograder==0.1.0) (1.0.0)\n",
      "Requirement already satisfied: requests in /Library/Frameworks/Python.framework/Versions/3.11/lib/python3.11/site-packages (from insperautograder==0.1.0) (2.31.0)\n",
      "Requirement already satisfied: ipython in /Users/antonioamaralegydiomartins/Library/Python/3.11/lib/python/site-packages (from insperautograder==0.1.0) (8.14.0)\n",
      "Requirement already satisfied: ipywidgets in /Library/Frameworks/Python.framework/Versions/3.11/lib/python3.11/site-packages (from insperautograder==0.1.0) (8.1.0)\n",
      "Requirement already satisfied: backcall in /Users/antonioamaralegydiomartins/Library/Python/3.11/lib/python/site-packages (from ipython->insperautograder==0.1.0) (0.2.0)\n",
      "Requirement already satisfied: decorator in /Users/antonioamaralegydiomartins/Library/Python/3.11/lib/python/site-packages (from ipython->insperautograder==0.1.0) (5.1.1)\n",
      "Requirement already satisfied: jedi>=0.16 in /Users/antonioamaralegydiomartins/Library/Python/3.11/lib/python/site-packages (from ipython->insperautograder==0.1.0) (0.19.0)\n",
      "Requirement already satisfied: matplotlib-inline in /Users/antonioamaralegydiomartins/Library/Python/3.11/lib/python/site-packages (from ipython->insperautograder==0.1.0) (0.1.6)\n",
      "Requirement already satisfied: pickleshare in /Users/antonioamaralegydiomartins/Library/Python/3.11/lib/python/site-packages (from ipython->insperautograder==0.1.0) (0.7.5)\n",
      "Requirement already satisfied: prompt-toolkit!=3.0.37,<3.1.0,>=3.0.30 in /Users/antonioamaralegydiomartins/Library/Python/3.11/lib/python/site-packages (from ipython->insperautograder==0.1.0) (3.0.39)\n",
      "Requirement already satisfied: pygments>=2.4.0 in /Users/antonioamaralegydiomartins/Library/Python/3.11/lib/python/site-packages (from ipython->insperautograder==0.1.0) (2.16.1)\n",
      "Requirement already satisfied: stack-data in /Users/antonioamaralegydiomartins/Library/Python/3.11/lib/python/site-packages (from ipython->insperautograder==0.1.0) (0.6.2)\n",
      "Requirement already satisfied: traitlets>=5 in /Users/antonioamaralegydiomartins/Library/Python/3.11/lib/python/site-packages (from ipython->insperautograder==0.1.0) (5.9.0)\n",
      "Requirement already satisfied: pexpect>4.3 in /Users/antonioamaralegydiomartins/Library/Python/3.11/lib/python/site-packages (from ipython->insperautograder==0.1.0) (4.8.0)\n",
      "Requirement already satisfied: appnope in /Users/antonioamaralegydiomartins/Library/Python/3.11/lib/python/site-packages (from ipython->insperautograder==0.1.0) (0.1.3)\n",
      "Requirement already satisfied: comm>=0.1.3 in /Users/antonioamaralegydiomartins/Library/Python/3.11/lib/python/site-packages (from ipywidgets->insperautograder==0.1.0) (0.1.4)\n",
      "Requirement already satisfied: widgetsnbextension~=4.0.7 in /Library/Frameworks/Python.framework/Versions/3.11/lib/python3.11/site-packages (from ipywidgets->insperautograder==0.1.0) (4.0.8)\n",
      "Requirement already satisfied: jupyterlab-widgets~=3.0.7 in /Library/Frameworks/Python.framework/Versions/3.11/lib/python3.11/site-packages (from ipywidgets->insperautograder==0.1.0) (3.0.8)\n",
      "Requirement already satisfied: charset-normalizer<4,>=2 in /Library/Frameworks/Python.framework/Versions/3.11/lib/python3.11/site-packages (from requests->insperautograder==0.1.0) (3.2.0)\n",
      "Requirement already satisfied: idna<4,>=2.5 in /Library/Frameworks/Python.framework/Versions/3.11/lib/python3.11/site-packages (from requests->insperautograder==0.1.0) (3.4)\n",
      "Requirement already satisfied: urllib3<3,>=1.21.1 in /Library/Frameworks/Python.framework/Versions/3.11/lib/python3.11/site-packages (from requests->insperautograder==0.1.0) (2.0.4)\n",
      "Requirement already satisfied: certifi>=2017.4.17 in /Library/Frameworks/Python.framework/Versions/3.11/lib/python3.11/site-packages (from requests->insperautograder==0.1.0) (2023.7.22)\n",
      "Requirement already satisfied: parso<0.9.0,>=0.8.3 in /Users/antonioamaralegydiomartins/Library/Python/3.11/lib/python/site-packages (from jedi>=0.16->ipython->insperautograder==0.1.0) (0.8.3)\n",
      "Requirement already satisfied: ptyprocess>=0.5 in /Users/antonioamaralegydiomartins/Library/Python/3.11/lib/python/site-packages (from pexpect>4.3->ipython->insperautograder==0.1.0) (0.7.0)\n",
      "Requirement already satisfied: wcwidth in /Users/antonioamaralegydiomartins/Library/Python/3.11/lib/python/site-packages (from prompt-toolkit!=3.0.37,<3.1.0,>=3.0.30->ipython->insperautograder==0.1.0) (0.2.6)\n",
      "Requirement already satisfied: executing>=1.2.0 in /Users/antonioamaralegydiomartins/Library/Python/3.11/lib/python/site-packages (from stack-data->ipython->insperautograder==0.1.0) (1.2.0)\n",
      "Requirement already satisfied: asttokens>=2.1.0 in /Users/antonioamaralegydiomartins/Library/Python/3.11/lib/python/site-packages (from stack-data->ipython->insperautograder==0.1.0) (2.2.1)\n",
      "Requirement already satisfied: pure-eval in /Users/antonioamaralegydiomartins/Library/Python/3.11/lib/python/site-packages (from stack-data->ipython->insperautograder==0.1.0) (0.2.2)\n",
      "Requirement already satisfied: six in /Users/antonioamaralegydiomartins/Library/Python/3.11/lib/python/site-packages (from asttokens>=2.1.0->stack-data->ipython->insperautograder==0.1.0) (1.16.0)\n",
      "Building wheels for collected packages: insperautograder\n",
      "  Building wheel for insperautograder (pyproject.toml) ... \u001b[?25ldone\n",
      "\u001b[?25h  Created wheel for insperautograder: filename=insperautograder-0.1.0-py3-none-any.whl size=3594 sha256=485b0ad0a193e404b385dca40b9f8326c6896e844379524d1290a18a6bfe1904\n",
      "  Stored in directory: /private/var/folders/00/v31y1rs57x3b9smq12j1ddzw0000gn/T/pip-ephem-wheel-cache-fm5qm01_/wheels/bb/01/cc/7f397587bfedd6c633e2627496c45d5693aa959ee8237ead1f\n",
      "Successfully built insperautograder\n",
      "Installing collected packages: insperautograder\n",
      "Successfully installed insperautograder-0.1.0\n"
     ]
    }
   ],
   "source": [
    "!pip3 uninstall -y insperautograder\n",
    "!pip3 install git+https://github.com/macielcalebe/insperautograding.git"
   ]
  },
  {
   "cell_type": "markdown",
   "id": "2ae5f5f3",
   "metadata": {},
   "source": [
    "## Criar o `.env`\n",
    "\n",
    "Os arquivos `.env` são arquivos de configuração usados no desenvolvimento de software para armazenar variáveis de ambiente. **Variáveis de ambiente** são valores definidos **fora do código-fonte** e usados para configurar diferentes aspectos de um aplicativo, como strings de conexão de banco de dados, chaves de API e outras **informações confidenciais**.\n",
    "\n",
    "Arquivos `.env` **jamais** (EU DISSE JAMAAAAIS) devem ser enviados para o github, isto pode representar sérios riscos pois pode prover acesso indevidos, como:\n",
    "- O hacker acessa e apaga toda sua base de dados\n",
    "- O hacker usa sua chave de API da AWS para minerar criptomoedas ou enviar spam (pode gastar milhares de dólares em minutos ou horas)\n",
    "\n",
    "Vamos instalar a biblioteca"
   ]
  },
  {
   "cell_type": "code",
   "execution_count": 2,
   "id": "1e82ba3a",
   "metadata": {},
   "outputs": [
    {
     "name": "stdout",
     "output_type": "stream",
     "text": [
      "Requirement already satisfied: python-dotenv in /Library/Frameworks/Python.framework/Versions/3.11/lib/python3.11/site-packages (1.0.0)\n"
     ]
    }
   ],
   "source": [
    "!pip3 install python-dotenv"
   ]
  },
  {
   "cell_type": "markdown",
   "id": "19d99af9",
   "metadata": {},
   "source": [
    "e escrever um `.env` na pasta pai (supondo que você tem uma pasta para a disciplina e nela cria uma pasta por aula).\n",
    "\n",
    "<img src=\"https://megadados-insper.s3.us-east-2.amazonaws.com/img/env_local.png\">\n",
    "\n",
    "O comando abaixo já deve escrever no local adequado. Você também pode utilizar um editor de textos para criar o `.env`."
   ]
  },
  {
   "cell_type": "code",
   "execution_count": 3,
   "id": "06ddf3ec",
   "metadata": {},
   "outputs": [
    {
     "name": "stdout",
     "output_type": "stream",
     "text": [
      "Overwriting ../.env\n"
     ]
    }
   ],
   "source": [
    "%%writefile ../.env\n",
    "IAG_SERVER_URL=\"https://bigdata.insper-comp.com.br/iag\"\n",
    "IAG_SUBJECT=\"megadados\"\n",
    "IAG_OFFERING=\"23-2\"\n",
    "IAG_TOKEN=\"iagtok_xxxxxxxxxxxxxxxxxxxxxxxxxxxxxxxxxxxxxxx\""
   ]
  },
  {
   "cell_type": "markdown",
   "id": "fde705c2",
   "metadata": {},
   "source": [
    "Confira pelo navegador de arquivos se o `.env` foi gerado corretamente!\n",
    "\n",
    "Como uma segunda confirmação, vamos tentar ler o endereço do servidor:"
   ]
  },
  {
   "cell_type": "code",
   "execution_count": 4,
   "id": "f0fab0af",
   "metadata": {},
   "outputs": [
    {
     "name": "stdout",
     "output_type": "stream",
     "text": [
      "https://bigdata.insper-comp.com.br/iag\n"
     ]
    }
   ],
   "source": [
    "import os\n",
    "from dotenv import load_dotenv\n",
    "\n",
    "load_dotenv(override=True)\n",
    "\n",
    "# Se aparecer o mesmo conteúdo definido na variável no .env, então é sucesso!\n",
    "print(os.getenv('IAG_SERVER_URL'))"
   ]
  },
  {
   "cell_type": "markdown",
   "id": "86fb92f7",
   "metadata": {},
   "source": [
    "## Gerar um token\n",
    "\n",
    "Vamos fazer uma requisição para gerar um token que será utilizado para identificar você nos envios da disciplina.\n",
    "\n",
    "Caso algum import falha, faça `pip install`"
   ]
  },
  {
   "cell_type": "code",
   "execution_count": 5,
   "id": "6b279e82",
   "metadata": {},
   "outputs": [],
   "source": [
    "import insperautograder.token as iat\n",
    "import insperautograder.jupyter as iaj"
   ]
  },
  {
   "cell_type": "code",
   "execution_count": 6,
   "id": "05bbb306",
   "metadata": {},
   "outputs": [
    {
     "data": {
      "text/markdown": [
       "\"Sending token in background! Check your Insper E-mail!\""
      ],
      "text/plain": [
       "<IPython.core.display.Markdown object>"
      ]
     },
     "metadata": {},
     "output_type": "display_data"
    }
   ],
   "source": [
    "# Descomente as linhas abaixo!\n",
    "username = 'antonioaem' # Informe aqui seu usuário Insper ex: mariana5 (sem @al....)\n",
    "iat.get_new_token(username=username)"
   ]
  },
  {
   "cell_type": "markdown",
   "id": "843b7c66",
   "metadata": {},
   "source": [
    "Confira seu email. Copie o token e cole no arquivo `.env` gerado no passo anterior. Como o token é a única informação sensível no `.env`, ao invés de atualizar pelo jupyter notebook, abra em algum editor de textos.\n",
    "\n",
    "Após a edição, execute a próxima célula para atualizar as variáveis de ambiente:"
   ]
  },
  {
   "cell_type": "code",
   "execution_count": 1,
   "id": "fc14c654",
   "metadata": {},
   "outputs": [
    {
     "ename": "NameError",
     "evalue": "name 'load_dotenv' is not defined",
     "output_type": "error",
     "traceback": [
      "\u001b[0;31m---------------------------------------------------------------------------\u001b[0m",
      "\u001b[0;31mNameError\u001b[0m                                 Traceback (most recent call last)",
      "Cell \u001b[0;32mIn[1], line 1\u001b[0m\n\u001b[0;32m----> 1\u001b[0m load_dotenv(override\u001b[39m=\u001b[39m\u001b[39mTrue\u001b[39;00m)\n",
      "\u001b[0;31mNameError\u001b[0m: name 'load_dotenv' is not defined"
     ]
    }
   ],
   "source": [
    "load_dotenv(override=True)"
   ]
  },
  {
   "cell_type": "markdown",
   "id": "2bc4a562",
   "metadata": {},
   "source": [
    "## Testando a API!\n",
    "\n",
    "**Exercício exemplo**: Qual o nome desta disciplina?! Responda como string na variável `resp` (próxima célula).\n",
    "\n",
    "Considere que a seguinte resposta está correta, vamos fazer seu envio!"
   ]
  },
  {
   "cell_type": "code",
   "execution_count": 14,
   "id": "00349bb1",
   "metadata": {},
   "outputs": [],
   "source": [
    "resp = '''\n",
    " MEGADADOS\n",
    "'''"
   ]
  },
  {
   "cell_type": "markdown",
   "id": "c62541f0",
   "metadata": {},
   "source": [
    "Para enviar, clique no botão:"
   ]
  },
  {
   "cell_type": "code",
   "execution_count": 15,
   "id": "74b1b637",
   "metadata": {},
   "outputs": [
    {
     "data": {
      "application/vnd.jupyter.widget-view+json": {
       "model_id": "0cbc8ebae12145559cf5b861d15e8821",
       "version_major": 2,
       "version_minor": 0
      },
      "text/plain": [
       "interactive(children=(Button(description='Enviar ex01', style=ButtonStyle()), Output()), _dom_classes=('widget…"
      ]
     },
     "execution_count": 15,
     "metadata": {},
     "output_type": "execute_result"
    }
   ],
   "source": [
    "iaj.sender(answer='resp', task='newborn', question='ex01', answer_type='pyvar')"
   ]
  },
  {
   "cell_type": "markdown",
   "id": "c4e9ea47",
   "metadata": {},
   "source": [
    "Perceba que a query possui um erro. Faça a correção, e, após sua última modificação, faça o envio clicando novamente no botão de envio! Ele automaticamente irá ler a variável `sql` (pega o valor atual dela, definido na última vez que você rodou a célula) e enviar para o servidor de testes!"
   ]
  },
  {
   "cell_type": "markdown",
   "id": "29321d76",
   "metadata": {},
   "source": [
    "## Atividades e Notas\n",
    "\n",
    "Podemos utilizar as chamadas para recuperar as atividades disponíveis, prazos e notas obtidas:"
   ]
  },
  {
   "cell_type": "code",
   "execution_count": 16,
   "id": "f421d0b2",
   "metadata": {},
   "outputs": [
    {
     "data": {
      "text/markdown": [
       "|    | Atividade   | De                               | Até                       |\n",
       "|---:|:------------|:---------------------------------|:--------------------------|\n",
       "|  0 | newborn     | 2023-08-08 03:00:00+00:00        | 2023-08-16 02:59:59+00:00 |\n",
       "|  1 | select01    | 2023-08-08 03:00:00+00:00        | 2023-08-21 02:59:59+00:00 |\n",
       "|  2 | ddl         | 2023-08-27 20:36:25.452000+00:00 | 2023-09-02 02:59:59+00:00 |\n",
       "|  3 | dml         | 2023-08-29 20:36:25.452000+00:00 | 2023-09-04 02:59:59+00:00 |"
      ],
      "text/plain": [
       "<IPython.core.display.Markdown object>"
      ]
     },
     "metadata": {},
     "output_type": "display_data"
    }
   ],
   "source": [
    "iaj.tasks()"
   ]
  },
  {
   "cell_type": "code",
   "execution_count": 19,
   "id": "3f2e0cf6",
   "metadata": {},
   "outputs": [
    {
     "data": {
      "text/markdown": [
       "|    | Atividade   | Exercício   |   Peso |   Nota |\n",
       "|---:|:------------|:------------|-------:|-------:|\n",
       "|  0 | ddl         | ex02        |      1 |      0 |\n",
       "|  1 | ddl         | ex03        |      1 |      0 |\n",
       "|  2 | ddl         | ex04        |      1 |      0 |\n",
       "|  3 | ddl         | ex05        |      1 |      0 |\n",
       "|  4 | ddl         | ex06        |      1 |      0 |\n",
       "|  5 | ddl         | ex07        |      1 |      0 |\n",
       "|  6 | ddl         | ex09        |      1 |      0 |\n",
       "|  7 | ddl         | ex10        |      1 |      0 |\n",
       "|  8 | ddl         | ex11        |      1 |      0 |\n",
       "|  9 | dml         | ex01        |      1 |      0 |\n",
       "| 10 | dml         | ex02        |      1 |      0 |\n",
       "| 11 | dml         | ex03        |      1 |      0 |\n",
       "| 12 | dml         | ex04        |      1 |      0 |\n",
       "| 13 | dml         | ex05        |      1 |      0 |\n",
       "| 14 | dml         | ex06        |      1 |      0 |\n",
       "| 15 | dml         | ex07        |      1 |      0 |\n",
       "| 16 | newborn     | ex01        |      1 |     10 |\n",
       "| 17 | select01    | ex01        |      1 |     10 |\n",
       "| 18 | select01    | ex02        |      1 |     10 |\n",
       "| 19 | select01    | ex03        |      1 |     10 |\n",
       "| 20 | select01    | ex04        |      1 |     10 |\n",
       "| 21 | select01    | ex05        |      1 |     10 |"
      ],
      "text/plain": [
       "<IPython.core.display.Markdown object>"
      ]
     },
     "metadata": {},
     "output_type": "display_data"
    }
   ],
   "source": [
    "iaj.grades()"
   ]
  },
  {
   "cell_type": "code",
   "execution_count": 18,
   "id": "3367239a",
   "metadata": {},
   "outputs": [
    {
     "data": {
      "text/markdown": [
       "|    | Tarefa   |   Nota |\n",
       "|---:|:---------|-------:|\n",
       "|  0 | newborn  |     10 |"
      ],
      "text/plain": [
       "<IPython.core.display.Markdown object>"
      ]
     },
     "metadata": {},
     "output_type": "display_data"
    }
   ],
   "source": [
    "iaj.grades(by='TASK', task='newborn')"
   ]
  }
 ],
 "metadata": {
  "kernelspec": {
   "display_name": "Python 3 (ipykernel)",
   "language": "python",
   "name": "python3"
  },
  "language_info": {
   "codemirror_mode": {
    "name": "ipython",
    "version": 3
   },
   "file_extension": ".py",
   "mimetype": "text/x-python",
   "name": "python",
   "nbconvert_exporter": "python",
   "pygments_lexer": "ipython3",
   "version": "3.11.4"
  }
 },
 "nbformat": 4,
 "nbformat_minor": 5
}
