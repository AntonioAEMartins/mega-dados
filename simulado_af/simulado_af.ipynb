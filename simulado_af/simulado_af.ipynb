{
 "cells": [
  {
   "attachments": {},
   "cell_type": "markdown",
   "id": "f62ded59",
   "metadata": {},
   "source": [
    "# Simulado para AF de MEGADADOS\n",
    "\n",
    "Utilize este notebook como uma das etapas de preparação para a Avaliação Final. Considere que foi realizado um recorte dos conteúdos e assuntos não cobertos neste notebook ainda poderão ser cobrados."
   ]
  },
  {
   "attachments": {},
   "cell_type": "markdown",
   "id": "ee1fa31d",
   "metadata": {},
   "source": [
    "**NOME**: Antônio Amaral Egydio Martins"
   ]
  },
  {
   "attachments": {},
   "cell_type": "markdown",
   "id": "7ffd3664",
   "metadata": {},
   "source": [
    "## Insper autograding!\n",
    "\n",
    "Para receber feedback dos exercício na parte 1, iremos utilizar o `insper autograding`. Se não fez este passo, abra o notebook disponível na aula 09.\n",
    "\n",
    "**Sugestão**: para aproveitar o `.env`, crie uma pasta para a prova no mesmo local onde costuma deixar as pastas das **aulas**!"
   ]
  },
  {
   "attachments": {},
   "cell_type": "markdown",
   "id": "69ee33d4",
   "metadata": {},
   "source": [
    "## Como resolver os exercícios?\n",
    "\n",
    "Crie a base da prova em sua máquina (Exercício 1). Utilize o notebook, MySQL Workbench ou o conector para testar as queries e soluções. Quando estiver bastante certo de que a resposta está correta, faça a submissão para o servidor.\n",
    "\n",
    "## Import das bibliotecas\n",
    "\n",
    "Vamos realizar o import das bibliotecas."
   ]
  },
  {
   "cell_type": "code",
   "execution_count": 6,
   "id": "b2f1597a",
   "metadata": {},
   "outputs": [],
   "source": [
    "import mysql.connector\n",
    "from functools import partial\n",
    "import os\n",
    "import insperautograder.jupyter as ia\n",
    "from dotenv import load_dotenv\n",
    "from functools import reduce"
   ]
  },
  {
   "attachments": {},
   "cell_type": "markdown",
   "id": "33eefa0d",
   "metadata": {},
   "source": [
    "E vamos criar nosso HELPER de conexão com o banco! Perceba que, uma vez configurado o `.env` não precisaremos mais informar usuários, senhas e URLs!"
   ]
  },
  {
   "cell_type": "code",
   "execution_count": 7,
   "id": "f5147533",
   "metadata": {},
   "outputs": [],
   "source": [
    "load_dotenv(override=True)\n",
    "\n",
    "def get_connection_helper():\n",
    "\n",
    "    def run_db_query(connection, query, args=None):\n",
    "        with connection.cursor() as cursor:\n",
    "            print('Executando query:')\n",
    "            cursor.execute(query, args)\n",
    "            for result in cursor:\n",
    "                print(result)\n",
    "\n",
    "    connection = mysql.connector.connect(\n",
    "        host=os.getenv('MD_DB_SERVER'),\n",
    "        user=os.getenv('MD_DB_USERNAME'),\n",
    "        password=os.getenv('MD_DB_PASSWORD'),\n",
    "        database='parques',\n",
    "    )\n",
    "    return connection, partial(run_db_query, connection)\n",
    "\n",
    "\n",
    "connection, db = get_connection_helper()"
   ]
  },
  {
   "attachments": {},
   "cell_type": "markdown",
   "id": "86e481dc",
   "metadata": {},
   "source": [
    "### Notas\n",
    "\n",
    "Para conferir a nota da correção automática da prova, utilize:"
   ]
  },
  {
   "cell_type": "code",
   "execution_count": 8,
   "id": "9d0c9a82",
   "metadata": {},
   "outputs": [
    {
     "data": {
      "text/markdown": [
       "|    | Atividade       | Exercício   |   Peso |   Nota |\n",
       "|---:|:----------------|:------------|-------:|-------:|\n",
       "|  0 | revisao_af_md_1 | ex01a       |      1 |     10 |\n",
       "|  1 | revisao_af_md_1 | ex01b       |      1 |     10 |\n",
       "|  2 | revisao_af_md_1 | ex01c       |      1 |     10 |\n",
       "|  3 | revisao_af_md_1 | ex01d       |      1 |      0 |\n",
       "|  4 | revisao_af_md_1 | ex01f       |      3 |      0 |"
      ],
      "text/plain": [
       "<IPython.core.display.Markdown object>"
      ]
     },
     "metadata": {},
     "output_type": "display_data"
    }
   ],
   "source": [
    "ia.grades(task='revisao_af_md_1')"
   ]
  },
  {
   "cell_type": "code",
   "execution_count": 41,
   "id": "088634f3",
   "metadata": {},
   "outputs": [
    {
     "data": {
      "text/markdown": [
       "|    | Tarefa               |   Nota |\n",
       "|---:|:---------------------|-------:|\n",
       "|  0 | agg_join             |  10    |\n",
       "|  1 | ai_md_23_2           |  10    |\n",
       "|  2 | ddl                  |   3.33 |\n",
       "|  3 | desafio_normalizacao |  10    |\n",
       "|  4 | dml                  |  10    |\n",
       "|  5 | exercicios_spark     |  10    |\n",
       "|  6 | functional           |  10    |\n",
       "|  7 | group_having         |  10    |\n",
       "|  8 | newborn              |  10    |\n",
       "|  9 | permissions          |  10    |\n",
       "| 10 | revisao_af_md_1      |  10    |\n",
       "| 11 | select01             |  10    |\n",
       "| 12 | spark                |  10    |\n",
       "| 13 | sql_review1          |  10    |\n",
       "| 14 | triggers             |  10    |\n",
       "| 15 | views                |  10    |"
      ],
      "text/plain": [
       "<IPython.core.display.Markdown object>"
      ]
     },
     "metadata": {},
     "output_type": "display_data"
    }
   ],
   "source": [
    "ia.grades(by='TASK')"
   ]
  },
  {
   "cell_type": "code",
   "execution_count": 10,
   "id": "f272c78e",
   "metadata": {},
   "outputs": [
    {
     "data": {
      "text/markdown": [
       "|    | Atividade            | De                        | Até                       |\n",
       "|---:|:---------------------|:--------------------------|:--------------------------|\n",
       "|  0 | select01             | 2023-08-08 03:00:00+00:00 | 2023-08-21 02:59:59+00:00 |\n",
       "|  1 | newborn              | 2023-08-08 03:00:00+00:00 | 2023-08-16 02:59:59+00:00 |\n",
       "|  2 | ddl                  | 2023-08-27 03:00:00+00:00 | 2023-09-02 02:59:59+00:00 |\n",
       "|  3 | dml                  | 2023-08-29 03:00:00+00:00 | 2023-09-04 02:59:59+00:00 |\n",
       "|  4 | group_having         | 2023-09-03 03:00:00+00:00 | 2023-09-17 02:59:59+00:00 |\n",
       "|  5 | agg_join             | 2023-09-03 03:00:00+00:00 | 2023-09-09 02:59:59+00:00 |\n",
       "|  6 | views                | 2023-09-11 03:00:00+00:00 | 2023-09-18 02:59:59+00:00 |\n",
       "|  7 | sql_review1          | 2023-09-13 03:00:00+00:00 | 2023-09-20 02:59:59+00:00 |\n",
       "|  8 | permissions          | 2023-09-20 03:00:00+00:00 | 2023-09-27 03:00:00+00:00 |\n",
       "|  9 | desafio_normalizacao | 2023-09-25 03:00:00+00:00 | 2023-10-02 03:00:00+00:00 |\n",
       "| 10 | ai_md_23_2           | 2023-10-09 03:00:00+00:00 | 2023-10-10 03:00:00+00:00 |\n",
       "| 11 | triggers             | 2023-10-19 03:00:00+00:00 | 2023-10-28 03:00:00+00:00 |\n",
       "| 12 | spark                | 2023-10-29 03:00:00+00:00 | 2023-11-08 15:00:00+00:00 |\n",
       "| 13 | functional           | 2023-10-29 03:00:00+00:00 | 2023-11-08 15:00:00+00:00 |\n",
       "| 14 | exercicios_spark     | 2023-11-02 03:00:00+00:00 | 2023-11-14 03:00:00+00:00 |\n",
       "| 15 | revisao_af_md_1      | 2023-11-27 03:00:00+00:00 | 2023-12-05 03:00:00+00:00 |"
      ],
      "text/plain": [
       "<IPython.core.display.Markdown object>"
      ]
     },
     "metadata": {},
     "output_type": "display_data"
    }
   ],
   "source": [
    "ia.tasks()"
   ]
  },
  {
   "attachments": {},
   "cell_type": "markdown",
   "id": "0e9420be",
   "metadata": {},
   "source": [
    "**Exercício 1**:\n",
    "\n",
    "Em uma cidade temos vários parques públicos. A prefeitura resolveu privatizar a zeladoria de todos eles: existe um conjunto de empresas administradoras, cada uma delas responsável por alguns parques da cidade. Para monitorar o trabalho dessas empresas, a prefeitura criou o aplicativo \"**Fiscais do Parque**\", onde usuários podem notificar ocorrências indesejáveis.\n",
    "\n",
    "O modelo entidade-relacionamento que representa esse cenário é visto abaixo:\n",
    "\n",
    "<img src=\"img/modelo_er.png\">\n",
    "\n",
    "O modelo relacional correspondente ao *design* acima é visto a seguir:\n",
    "\n",
    "<img src=\"img/modelo_relacional.png\">\n",
    "\n",
    "O script `pf.sql` contém o código para criar o banco de dados `parques` no MySQL e também adiciona dados de exemplo, usem a vontade para testar as respostas das questões da prova!"
   ]
  },
  {
   "attachments": {},
   "cell_type": "markdown",
   "id": "101d1515",
   "metadata": {},
   "source": [
    "**a)** Escreva uma query que liste todas as administradoras (apenas o `nome`), ordenadas por número de eventos de segurança ocorridos nos parques que administram. Pegadinha: e se não houve evento de segurança em seus parques?"
   ]
  },
  {
   "cell_type": "code",
   "execution_count": 11,
   "id": "3fe356ea",
   "metadata": {},
   "outputs": [
    {
     "name": "stdout",
     "output_type": "stream",
     "text": [
      "Executando query:\n",
      "('Associação Autônoma Andarilha',)\n",
      "('Instituto Instigare',)\n",
      "('Sociedade dos Sócios',)\n",
      "('Grupo Gripe',)\n",
      "('Fundação Fundão',)\n"
     ]
    }
   ],
   "source": [
    "sql_ex01a = '''\n",
    "SELECT\n",
    "    administradora.nome\n",
    "FROM\n",
    "    administradora\n",
    "    INNER JOIN parque USING(id_adm)\n",
    "    LEFT JOIN evento USING(id_parque)\n",
    "GROUP BY\n",
    "    administradora.id_adm\n",
    "ORDER BY\n",
    "    COUNT(evento.id_evento) ASC;\n",
    "'''\n",
    "\n",
    "db(sql_ex01a)"
   ]
  },
  {
   "cell_type": "code",
   "execution_count": 12,
   "id": "7e585eec",
   "metadata": {
    "scrolled": true
   },
   "outputs": [
    {
     "data": {
      "application/vnd.jupyter.widget-view+json": {
       "model_id": "e9ad352863b2442a90a728c17b88415e",
       "version_major": 2,
       "version_minor": 0
      },
      "text/plain": [
       "interactive(children=(Button(description='Enviar ex01a', style=ButtonStyle()), Output()), _dom_classes=('widge…"
      ]
     },
     "execution_count": 12,
     "metadata": {},
     "output_type": "execute_result"
    }
   ],
   "source": [
    "ia.sender(answer='sql_ex01a', task='revisao_af_md_1', question='ex01a', answer_type='pyvar')"
   ]
  },
  {
   "attachments": {},
   "cell_type": "markdown",
   "id": "9c7b8553",
   "metadata": {},
   "source": [
    "**b)** Crie uma tabela temporária chamada `tmp_total` que tem as colunas `(id_usuario, total)` onde a coluna `total` indica o numero total de eventos notificados pelo usuario `id_usuario`."
   ]
  },
  {
   "cell_type": "code",
   "execution_count": 13,
   "id": "06311dbc",
   "metadata": {},
   "outputs": [
    {
     "name": "stdout",
     "output_type": "stream",
     "text": [
      "Executando query:\n"
     ]
    }
   ],
   "source": [
    "sql_ex01b = '''\n",
    "CREATE TEMPORARY TABLE tmp_total\n",
    "    SELECT\n",
    "        usuario.id_usuario, COUNT(evento.id_evento) as total\n",
    "    FROM\n",
    "        usuario\n",
    "        INNER JOIN evento USING (id_usuario)\n",
    "    GROUP BY\n",
    "        usuario.id_usuario\n",
    "'''\n",
    "\n",
    "db(sql_ex01b)"
   ]
  },
  {
   "cell_type": "code",
   "execution_count": 14,
   "id": "e9504233",
   "metadata": {
    "scrolled": false
   },
   "outputs": [
    {
     "data": {
      "application/vnd.jupyter.widget-view+json": {
       "model_id": "d064e3d41a3540f1bd3df2521ce30b54",
       "version_major": 2,
       "version_minor": 0
      },
      "text/plain": [
       "interactive(children=(Button(description='Enviar ex01b', style=ButtonStyle()), Output()), _dom_classes=('widge…"
      ]
     },
     "execution_count": 14,
     "metadata": {},
     "output_type": "execute_result"
    }
   ],
   "source": [
    "ia.sender(answer='sql_ex01b', task='revisao_af_md_1', question='ex01b', answer_type='pyvar')"
   ]
  },
  {
   "attachments": {},
   "cell_type": "markdown",
   "id": "7bc296ad",
   "metadata": {},
   "source": [
    "**c)** Crie uma tabela temporária chamada `tmp_usuario_parque` que tem as colunas (`id_usuario`, `id_parque`, `contagem`) onde `contagem` é o número de eventos que o usuário `id_usuario` notificou acerca do parque `id_parque`.\n",
    "\n",
    "Dica: `GROUP BY` permite agrupar por multiplas colunas.\n",
    "\n",
    "**Obs**:\n",
    "- Ordene de forma crescente por `id_usuario`, `id_parque`"
   ]
  },
  {
   "cell_type": "code",
   "execution_count": 15,
   "id": "55633dce",
   "metadata": {},
   "outputs": [
    {
     "name": "stdout",
     "output_type": "stream",
     "text": [
      "Executando query:\n"
     ]
    }
   ],
   "source": [
    "sql_ex01c = '''\n",
    "CREATE TEMPORARY TABLE tmp_usuario_parque\n",
    "    SELECT\n",
    "        usuario.id_usuario, parque.id_parque, COUNT(evento.id_evento) as contagem\n",
    "    FROM\n",
    "        usuario\n",
    "        INNER JOIN evento USING (id_usuario)\n",
    "        INNER JOIN parque USING (id_parque)\n",
    "    GROUP BY\n",
    "        usuario.id_usuario, parque.id_parque\n",
    "    ORDER BY\n",
    "        usuario.id_usuario ASC, parque.id_parque ASC;\n",
    "'''\n",
    "\n",
    "# sql_ex01c = '''\n",
    "\n",
    "# '''\n",
    "\n",
    "db(sql_ex01c)"
   ]
  },
  {
   "attachments": {},
   "cell_type": "markdown",
   "id": "6c3051ef",
   "metadata": {},
   "source": [
    "Após testar localmente e considerar sua solução correta, faça o envio clicando no botão abaixo!"
   ]
  },
  {
   "cell_type": "code",
   "execution_count": 16,
   "id": "c376b54d",
   "metadata": {
    "scrolled": false
   },
   "outputs": [
    {
     "data": {
      "application/vnd.jupyter.widget-view+json": {
       "model_id": "f574b2f84eed4071be3167d4f456b78d",
       "version_major": 2,
       "version_minor": 0
      },
      "text/plain": [
       "interactive(children=(Button(description='Enviar ex01c', style=ButtonStyle()), Output()), _dom_classes=('widge…"
      ]
     },
     "execution_count": 16,
     "metadata": {},
     "output_type": "execute_result"
    }
   ],
   "source": [
    "ia.sender(answer='sql_ex01c', task='revisao_af_md_1', question='ex01c', answer_type='pyvar')"
   ]
  },
  {
   "attachments": {},
   "cell_type": "markdown",
   "id": "4528aa8e",
   "metadata": {},
   "source": [
    "**d)** Um usuário é um **fã** de um parque se a fração de eventos que ele notifica para o parque, em relação ao número total de eventos que ele notificou para todos os parques, é superior a 20%. Usando as tabelas temporárias acima (mesmo que não as tenha desenvolvido) faça uma query que lista os usuários que são fãs de dois ou mais parques.\n",
    "\n",
    "**Obs**:\n",
    "\n",
    "- Suponha que as tabelas temporárias já existem, faça apenas a query que retorne o `id_usuario` dos fãs!\n",
    "- Ordene de forma crescente pelo `id_usuario`"
   ]
  },
  {
   "cell_type": "code",
   "execution_count": 39,
   "id": "1d7c29ce",
   "metadata": {},
   "outputs": [
    {
     "name": "stdout",
     "output_type": "stream",
     "text": [
      "Executando query:\n",
      "(26,)\n",
      "(36,)\n"
     ]
    }
   ],
   "source": [
    "sql_ex01d = '''\n",
    "SELECT\n",
    "    tmp_total.id_usuario\n",
    "FROM\n",
    "    tmp_total\n",
    "INNER JOIN\n",
    "    tmp_usuario_parque USING(id_usuario)\n",
    "WHERE\n",
    "    (tmp_usuario_parque.contagem / tmp_total.total) >= 0.2\n",
    "GROUP BY\n",
    "    tmp_total.id_usuario\n",
    "HAVING\n",
    "    COUNT(DISTINCT tmp_usuario_parque.id_parque) >= 2\n",
    "ORDER BY\n",
    "    tmp_total.id_usuario ASC;\n",
    "'''\n",
    "\n",
    "db(sql_ex01d)"
   ]
  },
  {
   "attachments": {},
   "cell_type": "markdown",
   "id": "d14a627b",
   "metadata": {},
   "source": [
    "Após testar localmente e considerar sua solução correta, faça o envio clicando no botão abaixo!"
   ]
  },
  {
   "cell_type": "code",
   "execution_count": null,
   "id": "ebe77591",
   "metadata": {
    "scrolled": false
   },
   "outputs": [
    {
     "data": {
      "application/vnd.jupyter.widget-view+json": {
       "model_id": "8d44ec83a6db4afda028353e2a61045d",
       "version_major": 2,
       "version_minor": 0
      },
      "text/plain": [
       "interactive(children=(Button(description='Enviar ex01d', style=ButtonStyle()), Output()), _dom_classes=('widge…"
      ]
     },
     "execution_count": 40,
     "metadata": {},
     "output_type": "execute_result"
    }
   ],
   "source": [
    "ia.sender(answer='sql_ex01d', task='revisao_af_md_1', question='ex01d', answer_type='pyvar')"
   ]
  },
  {
   "attachments": {},
   "cell_type": "markdown",
   "id": "4151795b",
   "metadata": {},
   "source": [
    "**e)** Nos itens (b), (c) e (d) construímos uma solução para encontrar os fãs dos parques através do uso de duas tabelas temporárias e uma query. Essa solução tem uma falha: pode ser que entre a criação da tabela `tmp_total` e da tabela `tmp_usuario_parque` tivemos a chegada de novos eventos!\n",
    "\n",
    "Explique porque isso causa uma inconsistência na solução, e proponha um jeito de resolver esse problema (não precisa implementar, apenas propor a forma de resolver – mas seja preciso na especificação!).\n",
    "\n",
    "Esta questão será corrigida considerando a seguinte subrica:\n",
    "\n",
    "| Conceito | Nota | Descrição                                                                                                                                               |\n",
    "|:----------:|----------:|:---------------------------------------------------------------------------------------------------------------------------------------------------------|\n",
    "| I        | 0.0 |Apenas citou o assunto ou alguns fatos sem explicações                                                                                                  |\n",
    "| D        | 0.3 |Explicou superficialmente o assunto ou fatos mas sem muitos detalhes conclusivos                                                                        |\n",
    "| C        | 0.6 |Explicou com detalhes, apresentando definições concretas.                                                                                               |\n",
    "| B        | 0.8 |Explicou com detalhes, apresentando definições concretas e exemplos de uso.                                                                            |\n",
    "| A        | 1.0 |Explicou com detalhes, apresentando definições concretas, exemplos de uso e ainda outros tópicos correlatos, fazendo uma conexão lógica entre eles. |"
   ]
  },
  {
   "attachments": {},
   "cell_type": "markdown",
   "id": "8a8a4f65",
   "metadata": {},
   "source": [
    "<div class=\"alert alert-success\">\n",
    "\n",
    "Uma vez que estamos utilizando duas tabelas temporarias para a criação de um Query, neste caso para saber a fidelidade de um cliente, podem haver múltiplos pontos de inconsistência, sendo o primeiro deles a má formação das tabelas temporarias, porém outros problemas mais profundos podem surgir como por exemplo em um sistema com múltiplos usuários.\n",
    "\n",
    "Digamos que no momento que o Administrador foi utilizar ambas as tabelas para ter seu resultado houve alteração em números do sistema, porém como as tabelas temporarias já estavam criadas, o resultado não seria o esperado, visto que a contagem estaria desatualizada e não refletiria a realidade.\n",
    "\n",
    "</div>"
   ]
  },
  {
   "attachments": {},
   "cell_type": "markdown",
   "id": "67d29cec",
   "metadata": {},
   "source": [
    "**f)** Algum engenheiro da sua equipe propôs adicionar uma coluna chamada `cont_eventos` à tabela `aministradora` para manter a contagem total de eventos em parques sob administração de cada empresa.\n",
    "\n",
    "Obviamente trata-se de uma redundância no nosso banco de dados, e redundâncias são perigosas: podem resultar em uma inconsistência. Mas, por algum motivo bizarro (performance talvez?), você não tem alternativa a não ser implementar essa *feature*.\n",
    "\n",
    "Crie uma **trigger** que incremente a coluna `cont_eventos` na `administradora` adequada sempre que um novo `evento` for inserido.\n",
    "\n",
    "**Obs**:\n",
    "- Idealmente, a coluna precisaria ser decrementada quando houvesse uma remoção de evento. Entretanto, nesta questão iremos considerar apenas o caso de inserção!\n",
    "- Crie a coluna `cont_eventos` em seu database local para testar\n",
    "- No servidor, considere que a coluna `cont_eventos` já existe. Submeta apenas o código de criação da trigger.\n",
    "- Faça vários inserts para testar!"
   ]
  },
  {
   "cell_type": "code",
   "execution_count": 28,
   "id": "45b889d1",
   "metadata": {},
   "outputs": [
    {
     "name": "stdout",
     "output_type": "stream",
     "text": [
      "Executando query:\n"
     ]
    },
    {
     "ename": "DatabaseError",
     "evalue": "1359 (HY000): Trigger already exists",
     "output_type": "error",
     "traceback": [
      "\u001b[0;31m---------------------------------------------------------------------------\u001b[0m",
      "\u001b[0;31mMySQLInterfaceError\u001b[0m                       Traceback (most recent call last)",
      "File \u001b[0;32m/Library/Frameworks/Python.framework/Versions/3.11/lib/python3.11/site-packages/mysql/connector/connection_cext.py:633\u001b[0m, in \u001b[0;36mCMySQLConnection.cmd_query\u001b[0;34m(self, query, raw, buffered, raw_as_string)\u001b[0m\n\u001b[1;32m    632\u001b[0m         query \u001b[39m=\u001b[39m query\u001b[39m.\u001b[39mencode(\u001b[39m\"\u001b[39m\u001b[39mutf-8\u001b[39m\u001b[39m\"\u001b[39m)\n\u001b[0;32m--> 633\u001b[0m     \u001b[39mself\u001b[39;49m\u001b[39m.\u001b[39;49m_cmysql\u001b[39m.\u001b[39;49mquery(\n\u001b[1;32m    634\u001b[0m         query,\n\u001b[1;32m    635\u001b[0m         raw\u001b[39m=\u001b[39;49mraw,\n\u001b[1;32m    636\u001b[0m         buffered\u001b[39m=\u001b[39;49mbuffered,\n\u001b[1;32m    637\u001b[0m         raw_as_string\u001b[39m=\u001b[39;49mraw_as_string,\n\u001b[1;32m    638\u001b[0m         query_attrs\u001b[39m=\u001b[39;49m\u001b[39mself\u001b[39;49m\u001b[39m.\u001b[39;49mquery_attrs,\n\u001b[1;32m    639\u001b[0m     )\n\u001b[1;32m    640\u001b[0m \u001b[39mexcept\u001b[39;00m MySQLInterfaceError \u001b[39mas\u001b[39;00m err:\n",
      "\u001b[0;31mMySQLInterfaceError\u001b[0m: Trigger already exists",
      "\nThe above exception was the direct cause of the following exception:\n",
      "\u001b[0;31mDatabaseError\u001b[0m                             Traceback (most recent call last)",
      "Cell \u001b[0;32mIn[28], line 19\u001b[0m\n\u001b[1;32m      1\u001b[0m sql_ex01f \u001b[39m=\u001b[39m \u001b[39m'''\u001b[39m\n\u001b[1;32m      2\u001b[0m \u001b[39mCREATE TRIGGER atualiza_contagem_eventos\u001b[39m\n\u001b[1;32m      3\u001b[0m \u001b[39m    AFTER INSERT ON evento\u001b[39m\n\u001b[0;32m   (...)\u001b[0m\n\u001b[1;32m     13\u001b[0m \u001b[39m    END;\u001b[39m\n\u001b[1;32m     14\u001b[0m \u001b[39m'''\u001b[39m\n\u001b[0;32m---> 19\u001b[0m db(sql_ex01f)\n",
      "Cell \u001b[0;32mIn[7], line 8\u001b[0m, in \u001b[0;36mget_connection_helper.<locals>.run_db_query\u001b[0;34m(connection, query, args)\u001b[0m\n\u001b[1;32m      6\u001b[0m \u001b[39mwith\u001b[39;00m connection\u001b[39m.\u001b[39mcursor() \u001b[39mas\u001b[39;00m cursor:\n\u001b[1;32m      7\u001b[0m     \u001b[39mprint\u001b[39m(\u001b[39m'\u001b[39m\u001b[39mExecutando query:\u001b[39m\u001b[39m'\u001b[39m)\n\u001b[0;32m----> 8\u001b[0m     cursor\u001b[39m.\u001b[39;49mexecute(query, args)\n\u001b[1;32m      9\u001b[0m     \u001b[39mfor\u001b[39;00m result \u001b[39min\u001b[39;00m cursor:\n\u001b[1;32m     10\u001b[0m         \u001b[39mprint\u001b[39m(result)\n",
      "File \u001b[0;32m/Library/Frameworks/Python.framework/Versions/3.11/lib/python3.11/site-packages/mysql/connector/cursor_cext.py:330\u001b[0m, in \u001b[0;36mCMySQLCursor.execute\u001b[0;34m(self, operation, params, multi)\u001b[0m\n\u001b[1;32m    325\u001b[0m             \u001b[39mraise\u001b[39;00m ProgrammingError(\n\u001b[1;32m    326\u001b[0m                 \u001b[39m\"\u001b[39m\u001b[39mNot all parameters were used in the SQL statement\u001b[39m\u001b[39m\"\u001b[39m\n\u001b[1;32m    327\u001b[0m             )\n\u001b[1;32m    329\u001b[0m \u001b[39mtry\u001b[39;00m:\n\u001b[0;32m--> 330\u001b[0m     result \u001b[39m=\u001b[39m \u001b[39mself\u001b[39;49m\u001b[39m.\u001b[39;49m_cnx\u001b[39m.\u001b[39;49mcmd_query(\n\u001b[1;32m    331\u001b[0m         stmt,\n\u001b[1;32m    332\u001b[0m         raw\u001b[39m=\u001b[39;49m\u001b[39mself\u001b[39;49m\u001b[39m.\u001b[39;49m_raw,\n\u001b[1;32m    333\u001b[0m         buffered\u001b[39m=\u001b[39;49m\u001b[39mself\u001b[39;49m\u001b[39m.\u001b[39;49m_buffered,\n\u001b[1;32m    334\u001b[0m         raw_as_string\u001b[39m=\u001b[39;49m\u001b[39mself\u001b[39;49m\u001b[39m.\u001b[39;49m_raw_as_string,\n\u001b[1;32m    335\u001b[0m     )\n\u001b[1;32m    336\u001b[0m \u001b[39mexcept\u001b[39;00m MySQLInterfaceError \u001b[39mas\u001b[39;00m err:\n\u001b[1;32m    337\u001b[0m     \u001b[39mraise\u001b[39;00m get_mysql_exception(\n\u001b[1;32m    338\u001b[0m         msg\u001b[39m=\u001b[39merr\u001b[39m.\u001b[39mmsg, errno\u001b[39m=\u001b[39merr\u001b[39m.\u001b[39merrno, sqlstate\u001b[39m=\u001b[39merr\u001b[39m.\u001b[39msqlstate\n\u001b[1;32m    339\u001b[0m     ) \u001b[39mfrom\u001b[39;00m \u001b[39merr\u001b[39;00m\n",
      "File \u001b[0;32m/Library/Frameworks/Python.framework/Versions/3.11/lib/python3.11/site-packages/mysql/connector/opentelemetry/context_propagation.py:77\u001b[0m, in \u001b[0;36mwith_context_propagation.<locals>.wrapper\u001b[0;34m(cnx, *args, **kwargs)\u001b[0m\n\u001b[1;32m     75\u001b[0m \u001b[39m\u001b[39m\u001b[39m\"\"\"Context propagation decorator.\"\"\"\u001b[39;00m\n\u001b[1;32m     76\u001b[0m \u001b[39mif\u001b[39;00m \u001b[39mnot\u001b[39;00m OTEL_ENABLED \u001b[39mor\u001b[39;00m \u001b[39mnot\u001b[39;00m cnx\u001b[39m.\u001b[39motel_context_propagation:\n\u001b[0;32m---> 77\u001b[0m     \u001b[39mreturn\u001b[39;00m method(cnx, \u001b[39m*\u001b[39;49margs, \u001b[39m*\u001b[39;49m\u001b[39m*\u001b[39;49mkwargs)\n\u001b[1;32m     79\u001b[0m current_span \u001b[39m=\u001b[39m trace\u001b[39m.\u001b[39mget_current_span()\n\u001b[1;32m     80\u001b[0m tp_header \u001b[39m=\u001b[39m \u001b[39mNone\u001b[39;00m\n",
      "File \u001b[0;32m/Library/Frameworks/Python.framework/Versions/3.11/lib/python3.11/site-packages/mysql/connector/connection_cext.py:641\u001b[0m, in \u001b[0;36mCMySQLConnection.cmd_query\u001b[0;34m(self, query, raw, buffered, raw_as_string)\u001b[0m\n\u001b[1;32m    633\u001b[0m     \u001b[39mself\u001b[39m\u001b[39m.\u001b[39m_cmysql\u001b[39m.\u001b[39mquery(\n\u001b[1;32m    634\u001b[0m         query,\n\u001b[1;32m    635\u001b[0m         raw\u001b[39m=\u001b[39mraw,\n\u001b[0;32m   (...)\u001b[0m\n\u001b[1;32m    638\u001b[0m         query_attrs\u001b[39m=\u001b[39m\u001b[39mself\u001b[39m\u001b[39m.\u001b[39mquery_attrs,\n\u001b[1;32m    639\u001b[0m     )\n\u001b[1;32m    640\u001b[0m \u001b[39mexcept\u001b[39;00m MySQLInterfaceError \u001b[39mas\u001b[39;00m err:\n\u001b[0;32m--> 641\u001b[0m     \u001b[39mraise\u001b[39;00m get_mysql_exception(\n\u001b[1;32m    642\u001b[0m         err\u001b[39m.\u001b[39merrno, msg\u001b[39m=\u001b[39merr\u001b[39m.\u001b[39mmsg, sqlstate\u001b[39m=\u001b[39merr\u001b[39m.\u001b[39msqlstate\n\u001b[1;32m    643\u001b[0m     ) \u001b[39mfrom\u001b[39;00m \u001b[39merr\u001b[39;00m\n\u001b[1;32m    644\u001b[0m \u001b[39mexcept\u001b[39;00m \u001b[39mAttributeError\u001b[39;00m \u001b[39mas\u001b[39;00m err:\n\u001b[1;32m    645\u001b[0m     addr \u001b[39m=\u001b[39m (\n\u001b[1;32m    646\u001b[0m         \u001b[39mself\u001b[39m\u001b[39m.\u001b[39m_unix_socket \u001b[39mif\u001b[39;00m \u001b[39mself\u001b[39m\u001b[39m.\u001b[39m_unix_socket \u001b[39melse\u001b[39;00m \u001b[39mf\u001b[39m\u001b[39m\"\u001b[39m\u001b[39m{\u001b[39;00m\u001b[39mself\u001b[39m\u001b[39m.\u001b[39m_host\u001b[39m}\u001b[39;00m\u001b[39m:\u001b[39m\u001b[39m{\u001b[39;00m\u001b[39mself\u001b[39m\u001b[39m.\u001b[39m_port\u001b[39m}\u001b[39;00m\u001b[39m\"\u001b[39m\n\u001b[1;32m    647\u001b[0m     )\n",
      "\u001b[0;31mDatabaseError\u001b[0m: 1359 (HY000): Trigger already exists"
     ]
    }
   ],
   "source": [
    "sql_ex01f = '''\n",
    "CREATE TRIGGER atualiza_contagem_eventos\n",
    "    AFTER INSERT ON evento\n",
    "    FOR EACH ROW\n",
    "    BEGIN\n",
    "\n",
    "        UPDATE administradora\n",
    "            SET cont_eventos = cont_eventos + 1\n",
    "        WHERE\n",
    "            id_adm = (SELECT id_adm FROM parque WHERE id_parque = NEW.id_parque);\n",
    "\n",
    "    END;\n",
    "'''\n",
    "\n",
    "\n",
    "db(sql_ex01f)"
   ]
  },
  {
   "attachments": {},
   "cell_type": "markdown",
   "id": "f0dc25cd",
   "metadata": {},
   "source": [
    "Após testar localmente e considerar sua solução correta, faça o envio clicando no botão abaixo!"
   ]
  },
  {
   "cell_type": "code",
   "execution_count": null,
   "id": "f1f4a841",
   "metadata": {
    "scrolled": false
   },
   "outputs": [
    {
     "data": {
      "application/vnd.jupyter.widget-view+json": {
       "model_id": "a7f460f9731d4103a5139266ff3c8283",
       "version_major": 2,
       "version_minor": 0
      },
      "text/plain": [
       "interactive(children=(Button(description='Enviar ex01f', style=ButtonStyle()), Output()), _dom_classes=('widge…"
      ]
     },
     "execution_count": 21,
     "metadata": {},
     "output_type": "execute_result"
    }
   ],
   "source": [
    "ia.sender(answer='sql_ex01f', task='revisao_af_md_1', question='ex01f', answer_type='pyvar')"
   ]
  },
  {
   "attachments": {},
   "cell_type": "markdown",
   "id": "b75e8d50",
   "metadata": {},
   "source": [
    "**Exercício 2**:\n",
    "\n",
    "Explique com suas palavras: porque o Spark é baseado em um paradigma de programação funcional?\n",
    "\n",
    "Esta questão será corrigida considerando a seguinte subrica:\n",
    "\n",
    "| Conceito | Nota | Descrição                                                                                                                                               |\n",
    "|:----------:|----------:|:---------------------------------------------------------------------------------------------------------------------------------------------------------|\n",
    "| I        | 0.0 |Apenas citou o assunto ou alguns fatos sem explicações                                                                                                  |\n",
    "| D        | 0.3 |Explicou superficialmente o assunto ou fatos mas sem muitos detalhes conclusivos                                                                        |\n",
    "| C        | 0.6 |Explicou com detalhes, apresentando definições concretas.                                                                                               |\n",
    "| B        | 0.8 |Explicou com detalhes, apresentando definições concretas e exemplos de uso.                                                                            |\n",
    "| A        | 1.0 |Explicou com detalhes, apresentando definições concretas, exemplos de uso e ainda outros tópicos correlatos, fazendo uma conexão lógica entre eles. |"
   ]
  },
  {
   "attachments": {},
   "cell_type": "markdown",
   "id": "2204bffb",
   "metadata": {},
   "source": [
    "<div class=\"alert alert-success\">\n",
    "\n",
    "Sua resposta AQUI!\n",
    "\n",
    "</div>"
   ]
  },
  {
   "attachments": {},
   "cell_type": "markdown",
   "id": "0125ee55",
   "metadata": {},
   "source": [
    "**Exercício 3**:\n",
    "\n",
    "Escreva uma função `func_ex` em Python usando apenas ferramentas de programação funcional (como map(), functools.reduce(), filter(), zip(), list comprehensions, etc.) para a seguinte tarefa: \n",
    "\n",
    "- São dadas duas listas $x$ e $y$ de números reais, de mesmo comprimento . Cada elemento de cada lista é um número real ou `None`, indicando que o número está ausente.\n",
    "\n",
    "- A função deverá calcular a soma a seguir:\n",
    "\n",
    "$$\\sum_{\n",
    "\\begin{matrix}\n",
    "i=1,2,\\dots,n\\\\ \n",
    "x_i \\neq \\text{None}\\\\ \n",
    "y_i \\neq \\text{None}\n",
    "\\end{matrix}}{(x_i - y_i)^2}$$\n",
    "\n",
    "Ou seja, a soma dos quadrados das diferenças entre os valores de $x$ e $y$, mas apenas quando ambos os valores não são `None`.\n",
    "\n",
    "**Obs**:\n",
    "- Na matemática o primeiro índice é 1. Considere que todos os pares de items devem ser submetidos ao cálculo\n",
    "- Utilize funções aninhadas ou internas se necessário\n",
    "- Não pode utilizar `for`. Tente fazer sem `sum` (crie versão com `reduce`)!"
   ]
  },
  {
   "cell_type": "code",
   "execution_count": 99,
   "id": "cdd4caa5",
   "metadata": {},
   "outputs": [],
   "source": [
    "# Altere esta função\n",
    "def func_ex(x, y):\n",
    "    x = map(lambda x: x if x != None else 0, x)\n",
    "    y = map(lambda y: y if y != None else 0, y)\n",
    "    vec = map(lambda x: ((x[0] if x[1] != 0 else 0) - (x[1] if x[0] != 0 else 0))**2, zip(x, y))\n",
    "    res = reduce(lambda x, y: x + y, vec)\n",
    "    print(res)\n",
    "    return res\n",
    "\n",
    "def func_ex(x, y):\n",
    "    return reduce(\n",
    "        lambda x, y: x + y,\n",
    "        map(\n",
    "            lambda x: (x[0] - x[1]) ** 2,\n",
    "            filter(\n",
    "                lambda x: x[0] != None and x[1] != None,\n",
    "                zip(x, y),\n",
    "            ),\n",
    "        ),\n",
    "        0,\n",
    "    )"
   ]
  },
  {
   "cell_type": "code",
   "execution_count": 100,
   "id": "03131a6f",
   "metadata": {},
   "outputs": [],
   "source": [
    "x = [1, 2, 3]\n",
    "y = [1, 4, 6]\n",
    "z = [+2, -2, -2, 0, None, None,   20]\n",
    "w = [-2, -2, +2, 0,    5, None, None]\n",
    "\n",
    "# Alguns testes, objetivo é não dar Exception!\n",
    "assert func_ex(x,x) == 0  # de x para x deve ser zero\n",
    "assert func_ex(y,y) == 0  # de y para y deve ser zero\n",
    "assert func_ex(x,y) == 13 # de x para y deve ser 13\n",
    "assert func_ex(y,x) == func_ex(x,y) # de x para y deve ser igual dist. y para x\n",
    "\n",
    "assert func_ex(z,z) == 0\n",
    "assert func_ex(w,w) == 0\n",
    "assert func_ex(z,w) == func_ex(w,z)\n",
    "assert func_ex(z,w) == 32"
   ]
  },
  {
   "attachments": {},
   "cell_type": "markdown",
   "id": "d17f9748",
   "metadata": {},
   "source": [
    "**Exercício 4**:\n",
    "\n",
    "O site https://lichess.org permite que pessoas do mundo todo joguem xadrez online (mesmo com deficiência visual!).\n",
    "\n",
    "É gratuito, funciona com doações (lichess.org é uma instituição sem fins lucrativos na França) que servem para sustentar o custo dos servidores (web app, varios bancos de dados, sistemas de análise de jogos – e.g. stockfish – etc.) e o salário do desenvolvedor principal e criador da plataforma. O código-fonte é aberto, e desenvolvido principalmente em Scala (pelas vantagens da programação funcional, vejam só!).\n",
    "\n",
    "Na página de doações (https://lichess.org/patron) tem uma planilha de custos que lista todos os servidores, suas capacidades e custos. Tem também um dado interessante: são 5.200.000 jogos por dia atualmente!\n",
    "\n",
    "Suponha que cada jogo tem em média 50 lances, que cada lance pode ser armazenado como um par de bytes indicando a casa de origem e destino de uma peça. Suponha ainda que o número de jogos por ano dobra a cada ano. A planilha de custos do lichess informa que o servidor de banco de dados tem 3840 GB de disco; suponha que 1TB ainda esteja livre para armazenamento de dados. A partir de agora, quantos anos de armazenamento de jogos o servidor ainda aguenta?"
   ]
  },
  {
   "attachments": {},
   "cell_type": "markdown",
   "id": "5c9cc072",
   "metadata": {},
   "source": [
    "<div class=\"alert alert-success\">\n",
    "\n",
    "1 Lance = 2 bytes\n",
    "1 jogo = 50 lances -> 100 bytes\n",
    "1 dia = 5.200.000 jogos * 100 bytes = 52.000.000 bytes ou 52 MB\n",
    "1 ano = 365 * 52 MB = 18980 MB ou 18,980 GB\n",
    "\n",
    "Como o caso é uma PG\n",
    "\n",
    "Sn = a * ((r ** n) -1) / r-1\n",
    "\n",
    "a = 52 MB\n",
    "r = 365\n",
    "\n",
    "\n",
    "\n",
    "</div>"
   ]
  },
  {
   "attachments": {},
   "cell_type": "markdown",
   "id": "663d9137",
   "metadata": {},
   "source": [
    "**Exercício 5**:\n",
    "\n",
    "Considerando a tabela de gastos para departamentos de filiais de uma empresa:\n",
    "\n",
    "| id_filial (PK) | id_departamento (PK) | descricao  | id_cidade  | cidade | valor |\n",
    "|----------------|----------------------|------------|------------|--------|-------|\n",
    "| 10             | 55                   | TI         | 1          | Santos | 45.00 |\n",
    "| 20             | 55                   | TI         | 2          | Jundiaí|  7.50 |\n",
    "| 20             | 56                   | Marketing  | 2          | Jundiaí| 22.91 |\n",
    "| 10             | 56                   | Marketing  | 1          | Santos |  6.12 |\n",
    "\n",
    "**a)** A tabela está na `1NF`? Está na `2NF`? E na `3NF`? Justifique."
   ]
  },
  {
   "attachments": {},
   "cell_type": "markdown",
   "id": "723c0709",
   "metadata": {},
   "source": [
    "<div class=\"alert alert-success\">\n",
    "\n",
    "1NF, visto que nenhum dos campos têm tuplas com múltiplos valorea tribuitos, todos seguem a padronização de valores simples. Porém não está na normalização 2NF, visto que os atributos: descricao, id_cidade, cidade e valor não dependentem funcionamente da chave primaria (composta por id_filial e id_departamento). É possível ver esta não dependencia quando é comparada a coluna de valores que é variável, ou a coluna de descrição que independente da id_filial, ou id_departamento pode ser TI.\n",
    "\n",
    "</div>"
   ]
  },
  {
   "attachments": {},
   "cell_type": "markdown",
   "id": "b18d8629",
   "metadata": {},
   "source": [
    "**b)** Caso não esteja na 3NF, proponha modificações até que esteja na 3NF."
   ]
  },
  {
   "attachments": {},
   "cell_type": "markdown",
   "id": "41b69430",
   "metadata": {},
   "source": [
    "<div class=\"alert alert-success\">\n",
    "\n",
    "Sua resposta AQUI!\n",
    "    \n",
    "Exemplo de tabela, crie quantas precisar!\n",
    "\n",
    "| id_filial (PK) | id_departamento (PK) | descricao  | id_cidade  | cidade | valor |\n",
    "|----------------|----------------------|------------|------------|--------|-------|\n",
    "| 10             | 55                   | TI         | 1          | Santos | 45.00 |\n",
    "| 20             | 55                   | TI         | 2          | Jundiaí| 45.00 |\n",
    "| 20             | 56                   | Marketing  | 2          | Jundiaí| 22.91 |\n",
    "| 10             | 56                   | Marketing  | 1          | Santos | 22.91 |\n",
    "\n",
    "Você pode editar tabelas markdown em https://www.tablesgenerator.com/markdown_tables\n",
    "</div>"
   ]
  },
  {
   "attachments": {},
   "cell_type": "markdown",
   "id": "405230dc",
   "metadata": {},
   "source": [
    "### Conferindo as notas!"
   ]
  },
  {
   "cell_type": "code",
   "execution_count": null,
   "id": "b65540cb",
   "metadata": {},
   "outputs": [],
   "source": [
    "ia.grades(task='revisao_af_md_1')"
   ]
  },
  {
   "attachments": {},
   "cell_type": "markdown",
   "id": "cc63d0f3",
   "metadata": {},
   "source": [
    "## Entrega!\n",
    "\n",
    "Não precisa entregar na revisão, apenas na prova! Deixamos para fins didáticos!\n",
    "\n",
    "É hora de entregar. Faça um **zip** do notebook + imagens chamado `revisao_af_megadados.zip` e submeta no Blackboard!\n",
    "\n",
    "**Obs**:\n",
    "- `zip`, não use `rar`!\n",
    "- Não precisa entregar os scripts fornecidos pelo professor (pasta scripts)"
   ]
  },
  {
   "attachments": {},
   "cell_type": "markdown",
   "id": "81a1975d",
   "metadata": {},
   "source": [
    "## Gabarito"
   ]
  },
  {
   "attachments": {},
   "cell_type": "markdown",
   "id": "844d534b",
   "metadata": {},
   "source": [
    "**<div id=\"gab_ex3\">Exercício 3</div>**\n",
    "<div class=\"alert alert-warning\">\n",
    "Solução sem funcional (não seria aceita como resposta):\n",
    "\n",
    "```python\n",
    "def func_ex(x, y):\n",
    "    N = len(x)\n",
    "    assert N == len(y)\n",
    "    soma = 0.0\n",
    "    for k in range(N):\n",
    "        if x[k] != None and y[k] != None:\n",
    "            soma += (x[k] - y[k])**2\n",
    "    return soma\n",
    "```\n",
    "\n",
    "Algumas opções que poderiam ser consideradas como corretas:\n",
    "\n",
    "```python\n",
    "def func_ex(x, y):\n",
    "    \n",
    "    def diff(a,b):\n",
    "        return 0 if a is None or b is None else (a - b) ** 2\n",
    "    \n",
    "    pairs = zip(x,y)\n",
    "    sq_diffs = map(lambda pair: diff(pair[0], pair[1]), pairs)\n",
    "    soma = reduce(lambda x, y: x + y, sq_diffs)\n",
    "    return soma\n",
    "```\n",
    "    \n",
    "```python\n",
    "def func_ex(x, y):\n",
    "    return reduce(\n",
    "        lambda x, y: x + y,\n",
    "        map(\n",
    "            lambda x: (x[0] - x[1])**2,\n",
    "            filter(\n",
    "                lambda x: x[0] != None and x[1] != None,\n",
    "                zip(x, y),\n",
    "            ),\n",
    "        ),\n",
    "        0,\n",
    "    )\n",
    "```\n",
    "\n",
    "Opção com `sum`:\n",
    "```python\n",
    "def func_ex(x, y):\n",
    "    return sum(\n",
    "        map(\n",
    "            lambda x: (x[0] - x[1])**2,\n",
    "            filter(\n",
    "                lambda x: x[0] != None and x[1] != None,\n",
    "                zip(x, y),\n",
    "            ),\n",
    "        ),\n",
    "    )\n",
    "```\n",
    "\n",
    "</div>"
   ]
  },
  {
   "attachments": {},
   "cell_type": "markdown",
   "id": "0a356dbd",
   "metadata": {},
   "source": [
    "**<div id=\"gab_ex4\">Exercício 4</div>**\n",
    "\n",
    "<div class=\"alert alert-warning\">\n",
    "\n",
    "O número de jogos por dia é dado por \n",
    "\\[ f(t) = 5.2 \\times 10^6 \\times 2^{\\frac{t}{365}}, \\]\n",
    "onde \\( t \\) é o número do dia. O número de bytes a serem armazenados por dia é\n",
    "\\[ g(t) = 50 \\frac{\\text{lances}}{\\text{partida}} \\times 2 \\frac{\\text{bytes}}{\\text{lance}} \\times f(t) \\frac{\\text{partidas}}{\\text{dia}} = 5.2 \\times 10^8 \\times 2^{\\frac{t}{365}}. \\]\n",
    "\n",
    "O volume total a ser armazenado no acúmulo de \\( t \\) dias é\n",
    "\\[ G(t) = \\sum_{k = 0}^{t} g(t) = \\sum_{k = 0}^{t} 5.2 \\times 10^8 \\times 2^{\\frac{t}{365}} = \\sum_{k = 0}^{t} 5.2 \\times 10^8 \\times \\left(2^{\\frac{1}{365}}\\right)^t \\]\n",
    "que é a soma de uma progressão geométrica de termo inicial \\( g(0) = 5.2 \\times 10^8 \\) e razão \\( r = 2^{\\frac{1}{365}} \\).\n",
    "\n",
    "Portanto, a fórmula fechada para \\( G(t) \\) é \n",
    "\\[ G(t) = \\frac{g(t + 1) - g(0)}{r - 1} = 5.2 \\times 10^8 \\frac{2^{\\frac{t + 1}{365}} - 1}{2^{\\frac{1}{365}} - 1} \\]\n",
    "\n",
    "Vamos ver o comportamento desta função:\n",
    "    \n",
    "```python\n",
    "def G(t):\n",
    "    return 5.2e8 * (2.0 ** ((t + 1.0) / 365.0) - 1.0) / (2.0 ** (1.0/365.0) - 1.0)\n",
    "\n",
    "t = np.arange(1, 1000, 1)\n",
    "y = G(t)\n",
    "y_1TB = 1e12 * np.ones(t.shape)\n",
    "\n",
    "plt.figure()\n",
    "plt.plot(t, y, '-', color='blue', label='$G(t)$')\n",
    "plt.plot(t, y_1TB, '--', color='orange', label='1 TB')\n",
    "\n",
    "plt.title('Armazenamento utilizado')\n",
    "plt.xlabel('dias')\n",
    "plt.ylabel('bytes')\n",
    "plt.legend()\n",
    "plt.show()\n"
   ]
  }
 ],
 "metadata": {
  "kernelspec": {
   "display_name": "Python 3 (ipykernel)",
   "language": "python",
   "name": "python3"
  },
  "language_info": {
   "codemirror_mode": {
    "name": "ipython",
    "version": 3
   },
   "file_extension": ".py",
   "mimetype": "text/x-python",
   "name": "python",
   "nbconvert_exporter": "python",
   "pygments_lexer": "ipython3",
   "version": "3.11.4"
  }
 },
 "nbformat": 4,
 "nbformat_minor": 5
}
