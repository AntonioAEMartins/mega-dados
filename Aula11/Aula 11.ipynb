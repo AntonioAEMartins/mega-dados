{
 "cells": [
  {
   "cell_type": "markdown",
   "id": "ba6c1d66",
   "metadata": {},
   "source": [
    "# Aula 11\n",
    "\n",
    "## Task: Modelo Entidade-Relacionamento\n",
    "\n",
    "Nesta dinâmica, nosso objetivo será construir uma proposta que modele informações do domínio de aplicação, provendo uma representação conceitual que irá guiar a produção de uma solução, utilizando os conceitos de Modelo Entidade-Relacionamento vistos na expositiva.\n",
    "\n",
    "**Atividade:** Encontre um(a) colega para ser sua **dupla**. Teremos dois papeis nesta dinâmica, o **cliente** e o **engenheiro**. O **cliente** terá atuação principal na especificação do problema e seus requisitos, enquanto o **engenheiro** atuará principalmente no desenho do modelo.\n",
    "\n",
    "Preencha os nomes abaixo:"
   ]
  },
  {
   "attachments": {},
   "cell_type": "markdown",
   "id": "30c4869c",
   "metadata": {},
   "source": [
    "**Cliente**: `Antônio Martins`\n",
    "\n",
    "**Engenheiro**: `Victor Assis`"
   ]
  },
  {
   "cell_type": "markdown",
   "id": "832eb313",
   "metadata": {},
   "source": [
    "**Atividade**: Para quem estiver fazendo o papel de cliente...\n",
    "\n",
    "Identifique alguma área (domínio) no qual consiga pensar em algum **problema** que envolva bases de dados. Ex: cadastro de pokemons, sistema para gerenciar o estoque de uma casa de festas, sistema para gerenciar pontuações de partidas de xadrez, uma base com os parques públicos e os serviços neles disponíveis, etc.\n",
    "\n",
    "Descreva a **área** e o **problema** (pode ser em forma de pergunta) que deseja solucionar."
   ]
  },
  {
   "attachments": {},
   "cell_type": "markdown",
   "id": "8133556f",
   "metadata": {},
   "source": [
    "<div class=\"alert alert-success\">\n",
    "\n",
    "Hoje tenho um problema muito grande em meu restaurante de pizza. Esse problema é majoritariamente em manter meu estoque. Como cada pizza utiliza muitos ingredientes, e o molho é sempre variável - sendo muito dificil para o pizzaiolo manter a quantidade correta todas as vezes - eu acabo tendo muitos desperdícios. Além disso, eu não consigo ter uma visão geral de quais ingredientes estão acabando, e quais eu tenho em excesso. Isso acaba me gerando muitos gastos desnecessários, e muitas vezes eu acabo tendo que jogar fora ingredientes que estragaram por não terem sido utilizados a tempo.\n",
    "\n",
    "</div>"
   ]
  },
  {
   "cell_type": "markdown",
   "id": "29819f17",
   "metadata": {},
   "source": [
    "**Atividade**: Para quem estiver fazendo o papel de engenheiro...\n",
    "\n",
    "É comum que engenheiros tenham conhecimentos em áreas técnicas mas desconheçam domínios específicos. Faça perguntas que te ajudem a entender melhor o problema proposto pelo cliente. Escreva abaixo alguns exemplos de perguntas realizadas."
   ]
  },
  {
   "attachments": {},
   "cell_type": "markdown",
   "id": "d7a25ff0",
   "metadata": {
    "vscode": {
     "languageId": "plaintext"
    }
   },
   "source": [
    "Perguntas:\n",
    "\n",
    "1. Quais são as pizzas que você vende?\n",
    "2. Quais informações você precisa saber sobre cada pizza?\n",
    "3. A quantidade de ingrdiente por pizza é fixa ou varia?\n",
    "4. Qual informação você precisa saber sobre cada ingrediente?\n",
    "5. Em seu estoque existe quantidade mínima e máxima de cada ingrediente? A unidade de medida importa ou é sempre a mesma?\n",
    "6. Existe um fornecedor fixo de cada ingrediente? Eles são exclusivos?\n",
    "7. Quais as formas de contato com os fornecedores?\n",
    "8. Voce precisa de alguma informação juridica sobre os fornecedores?\n"
   ]
  },
  {
   "cell_type": "markdown",
   "id": "b66bb8fa",
   "metadata": {},
   "source": [
    "**Atividade**: Para ambos, engenheiro e cliente...\n",
    "\n",
    "Vocês devem simular uma reunião de trabalho na qual, com base no conhecimento adquirido, seja desenhada uma proposta de **Modelo Entidade-Relacionamento** (conforme as regras nos slides) que seja uma representação conceitual de uma solução para o problema.\n",
    "\n",
    "Lembre-se que seu foco é nos dados e em sua modelagem. Problemas de outras áreas (orientação a objetos, computação em nuvem, tecnologias a serem utilizadas, etc.) devem ser ignorados!\n",
    "\n",
    "De forma iterativa, Repita até produzir uma solução adequada (ou até acabar a \"sprint\"!!!):\n",
    "1) Converse com o cliente e faça perguntas que ajudem a entender requisitos do problema\n",
    "2) Faça o desenho e refinamento do seu modelo em alguma ferramenta de desenho (sugestão: https://excalidraw.com/)\n",
    "3) Apresente ao cliente\n",
    "\n",
    "Cole abaixo apenas a versão final do modelo (como imagem). Caso considere necessário, adicione textos."
   ]
  },
  {
   "cell_type": "markdown",
   "id": "10332944",
   "metadata": {},
   "source": [
    "<div class=\"alert alert-success\">\n",
    "\n",
    "![Modelo](../Aula11/modelo.png)\n",
    "\n",
    "</div>"
   ]
  },
  {
   "cell_type": "markdown",
   "id": "e1ce0938",
   "metadata": {},
   "source": [
    "**Atividade**: Para ambos, engenheiro e cliente...\n",
    "\n",
    "Julgamento! Como cliente e engenheiro, avaliem a solução proposta. Ela está adequada e implementável?! Quais são os principais valores gerados pela proposta?"
   ]
  },
  {
   "attachments": {},
   "cell_type": "markdown",
   "id": "1cfffef1",
   "metadata": {},
   "source": [
    "<div class=\"alert alert-success\">\n",
    "\n",
    "Cliente: A solução está adequada, uma vez que contempla todo o gerenciamento de estoque e detém relações entre minhas pizzas, os ingredientes delas e meu estoque - podendo ser até mesmo implementado em um App que será utilizado pelos atendentes. Gostei muito que o Engenheiro propôs um mecanismo de alerta para quando um ingrediente estiver acabando já tendo as informações necessarias para entrar em contato com o fornecedor e realizar a compra.\n",
    "\n",
    "Engenheiro: Está implementável. Acredito que o maior valor gerado é a possibilidade de gerenciar o estoque de forma mais eficiente, evitando desperdícios e gastos desnecessários. Com os dados que coletamos é possível, inclusive, calcular quanto lucro ela gerou. Em futuras iterações isso poderá agregar muito valor.\n",
    "\n",
    "</div>"
   ]
  },
  {
   "cell_type": "markdown",
   "id": "596920ba",
   "metadata": {},
   "source": [
    "**Atividade**: Para qualquer um dos dois, engenheiro ou cliente...\n",
    "\n",
    "Faça o download do notebook (.ipynb ou .pdf) e anexe no Blackboard como resposta. Apenas um deve entregar."
   ]
  }
 ],
 "metadata": {
  "kernelspec": {
   "display_name": "Python 3 (ipykernel)",
   "language": "python",
   "name": "python3"
  },
  "language_info": {
   "codemirror_mode": {
    "name": "ipython",
    "version": 3
   },
   "file_extension": ".py",
   "mimetype": "text/x-python",
   "name": "python",
   "nbconvert_exporter": "python",
   "pygments_lexer": "ipython3",
   "version": "3.11.4"
  }
 },
 "nbformat": 4,
 "nbformat_minor": 5
}
